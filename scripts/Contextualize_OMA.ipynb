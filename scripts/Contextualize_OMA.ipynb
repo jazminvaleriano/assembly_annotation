{
 "cells": [
  {
   "cell_type": "markdown",
   "id": "390be9f9",
   "metadata": {},
   "source": [
    "# Contextualize OMArk results with the OMABrowser"
   ]
  },
  {
   "cell_type": "markdown",
   "id": "32ab5f76",
   "metadata": {},
   "source": [
    "This code require to install the [omadb](https://github.com/DessimozLab/pyomadb/) package version 2.2.0 or higher, If did not do it yet, you can do it using the cell below."
   ]
  },
  {
   "cell_type": "code",
   "execution_count": 1,
   "id": "39ac416b",
   "metadata": {},
   "outputs": [],
   "source": [
    "!pip install omadb>=2.2.0"
   ]
  },
  {
   "cell_type": "code",
   "execution_count": 1,
   "id": "0f3a9831",
   "metadata": {
    "scrolled": false
   },
   "outputs": [],
   "source": [
    "import pandas as pd\n",
    "import omark_contextualize as oc"
   ]
  },
  {
   "cell_type": "markdown",
   "id": "b68c23f6",
   "metadata": {},
   "source": [
    "## Extract OMArk data"
   ]
  },
  {
   "cell_type": "code",
   "execution_count": 8,
   "id": "a4fb00a6",
   "metadata": {},
   "outputs": [],
   "source": [
    "import os\n",
    "\n",
    "# Set the path to the current working directory\n",
    "PATH = \"/Users/jazminvaleriano/Desktop/OMArk_contextualize/OMArk_output\"\n",
    "\n",
    "# Set the path to the OMAMER file, replace \"your_omamer_filename\" with your actual filename\n",
    "OMAMER = \"assembly.all.maker.proteins.fasta.renamed.filtered.fasta.omamer\"\n"
   ]
  },
  {
   "cell_type": "code",
   "execution_count": 9,
   "id": "b98c1f06",
   "metadata": {},
   "outputs": [
    {
     "data": {
      "text/plain": [
       "(                        gene Consistency_Category structure           HOG  \\\n",
       " 0      Rubezhnoe-10021943-RA         Inconsistent   Partial  HOG:E0018067   \n",
       " 1      Rubezhnoe-10021555-RA         Inconsistent   Partial  HOG:E0071749   \n",
       " 2      Rubezhnoe-10025254-RA         Inconsistent   Partial  HOG:E0104858   \n",
       " 3      Rubezhnoe-10024357-RA         Inconsistent   Partial  HOG:E0104869   \n",
       " 4      Rubezhnoe-10009095-RA         Inconsistent   Partial  HOG:E0136472   \n",
       " ...                      ...                  ...       ...           ...   \n",
       " 28555  Rubezhnoe-10018901-RA              Unknown      None           N/A   \n",
       " 28556  Rubezhnoe-10018905-RA              Unknown      None           N/A   \n",
       " 28557  Rubezhnoe-10018906-RA              Unknown      None           N/A   \n",
       " 28558  Rubezhnoe-10018908-RA              Unknown      None           N/A   \n",
       " 28559  Rubezhnoe-10021831-RA              Unknown      None           N/A   \n",
       " \n",
       "                     hoglevel            family_p family_count  \\\n",
       " 0                    Archaea  19.326879389454433            7   \n",
       " 1                 Ochrophyta   22.04650713133165           28   \n",
       " 2                 Paramecium  20.999895489574385            5   \n",
       " 3                 Paramecium  18.048644887813236            5   \n",
       " 4      Plasmodium falciparum  15.179008963917884            4   \n",
       " ...                      ...                 ...          ...   \n",
       " 28555                    N/A                 N/A          N/A   \n",
       " 28556                    N/A                 N/A          N/A   \n",
       " 28557                    N/A                 N/A          N/A   \n",
       " 28558                    N/A                 N/A          N/A   \n",
       " 28559                    N/A                 N/A          N/A   \n",
       " \n",
       "            family_normcount subfamily_score subfamily_count  qseqlen  \\\n",
       " 0       0.04051873811575978             N/A             N/A    179.0   \n",
       " 1       0.07793177867697161             N/A             N/A    367.0   \n",
       " 2      0.043081070722571294             N/A             N/A    737.0   \n",
       " 3       0.03161569888240414             N/A             N/A    190.0   \n",
       " 4       0.04442570395974416             N/A             N/A     96.0   \n",
       " ...                     ...             ...             ...      ...   \n",
       " 28555                   N/A             N/A             N/A    383.0   \n",
       " 28556                   N/A             N/A             N/A     63.0   \n",
       " 28557                   N/A             N/A             N/A     92.0   \n",
       " 28558                   N/A             N/A             N/A    193.0   \n",
       " 28559                   N/A             N/A             N/A     74.0   \n",
       " \n",
       "        subfamily_medianseqlen         qseq_overlap Completeness_Category  \n",
       " 0                       123.0  0.19662921348314608                   NaN  \n",
       " 1                      1207.0   0.5245901639344263                   NaN  \n",
       " 2                       218.0   0.7744565217391305                   NaN  \n",
       " 3                       563.0   0.2857142857142857                   NaN  \n",
       " 4                       260.0   0.7789473684210526                   NaN  \n",
       " ...                       ...                  ...                   ...  \n",
       " 28555                     NaN                  N/A                   NaN  \n",
       " 28556                     NaN                  N/A                   NaN  \n",
       " 28557                     NaN                  N/A                   NaN  \n",
       " 28558                     NaN                  N/A                   NaN  \n",
       " 28559                     NaN                  N/A                   NaN  \n",
       " \n",
       " [28560 rows x 14 columns],\n",
       "                                       HOG Completeness_Category\n",
       " 0                   HOG:E0292535.1b.3b.3a                Single\n",
       " 1                            HOG:E0249195                Single\n",
       " 2                            HOG:E0294453                Single\n",
       " 3                      HOG:E0272085.1b.2a                Single\n",
       " 4                            HOG:E0248434                Single\n",
       " ...                                   ...                   ...\n",
       " 17991                     HOG:E0278684.1a        Overspecific_D\n",
       " 17992  HOG:E0802298.9f.17g.4g.2b.2b.8a.7c        Overspecific_D\n",
       " 17993                    HOG:E0802210.23a        Overspecific_D\n",
       " 17994       HOG:E0801898.5l.14f.4a.9b.13a        Overspecific_D\n",
       " 17995                        HOG:E0310173        Overspecific_D\n",
       " \n",
       " [17996 rows x 2 columns],\n",
       "                         gene Consistency_Category structure\n",
       " 0      Rubezhnoe-10011631-RA           Consistent      Full\n",
       " 1      Rubezhnoe-10019603-RA           Consistent      Full\n",
       " 2      Rubezhnoe-10023505-RA           Consistent      Full\n",
       " 3      Rubezhnoe-10019014-RA           Consistent      Full\n",
       " 4      Rubezhnoe-10012882-RA           Consistent      Full\n",
       " ...                      ...                  ...       ...\n",
       " 26073  Rubezhnoe-10018901-RA              Unknown      None\n",
       " 26074  Rubezhnoe-10018905-RA              Unknown      None\n",
       " 26075  Rubezhnoe-10018906-RA              Unknown      None\n",
       " 26076  Rubezhnoe-10018908-RA              Unknown      None\n",
       " 26077  Rubezhnoe-10021831-RA              Unknown      None\n",
       " \n",
       " [26078 rows x 3 columns],\n",
       "                         gene              HOG              hoglevel  \\\n",
       " 0      Rubezhnoe-10025991-RA              N/A                   N/A   \n",
       " 1      Rubezhnoe-10025992-RA              N/A                   N/A   \n",
       " 2      Rubezhnoe-10025993-RA              N/A                   N/A   \n",
       " 3      Rubezhnoe-10025994-RA              N/A                   N/A   \n",
       " 4      Rubezhnoe-10025889-RA  HOG:E0237169.2a  Arabidopsis thaliana   \n",
       " ...                      ...              ...                   ...   \n",
       " 28464  Rubezhnoe-10025547-RA              N/A                   N/A   \n",
       " 28465  Rubezhnoe-10025548-RA              N/A                   N/A   \n",
       " 28466  Rubezhnoe-10025549-RA              N/A                   N/A   \n",
       " 28467  Rubezhnoe-10025550-RA              N/A                   N/A   \n",
       " 28468  Rubezhnoe-10025551-RA              N/A                   N/A   \n",
       " \n",
       "                  family_p family_count    family_normcount  \\\n",
       " 0                     N/A          N/A                 N/A   \n",
       " 1                     N/A          N/A                 N/A   \n",
       " 2                     N/A          N/A                 N/A   \n",
       " 3                     N/A          N/A                 N/A   \n",
       " 4      1296.5966067877196          151  0.7947180155512137   \n",
       " ...                   ...          ...                 ...   \n",
       " 28464                 N/A          N/A                 N/A   \n",
       " 28465                 N/A          N/A                 N/A   \n",
       " 28466                 N/A          N/A                 N/A   \n",
       " 28467                 N/A          N/A                 N/A   \n",
       " 28468                 N/A          N/A                 N/A   \n",
       " \n",
       "           subfamily_score subfamily_count  qseqlen  subfamily_medianseqlen  \\\n",
       " 0                     N/A             N/A       52                     NaN   \n",
       " 1                     N/A             N/A       52                     NaN   \n",
       " 2                     N/A             N/A       52                     NaN   \n",
       " 3                     N/A             N/A       52                     NaN   \n",
       " 4      0.6044775535028093              81      202                   265.0   \n",
       " ...                   ...             ...      ...                     ...   \n",
       " 28464                 N/A             N/A      185                     NaN   \n",
       " 28465                 N/A             N/A       75                     NaN   \n",
       " 28466                 N/A             N/A       75                     NaN   \n",
       " 28467                 N/A             N/A       41                     NaN   \n",
       " 28468                 N/A             N/A       64                     NaN   \n",
       " \n",
       "              qseq_overlap  \n",
       " 0                     N/A  \n",
       " 1                     N/A  \n",
       " 2                     N/A  \n",
       " 3                     N/A  \n",
       " 4      0.9900497512437811  \n",
       " ...                   ...  \n",
       " 28464                 N/A  \n",
       " 28465                 N/A  \n",
       " 28466                 N/A  \n",
       " 28467                 N/A  \n",
       " 28468                 N/A  \n",
       " \n",
       " [28469 rows x 11 columns])"
      ]
     },
     "execution_count": 9,
     "metadata": {},
     "output_type": "execute_result"
    }
   ],
   "source": [
    "oc.get_data_total(PATH, OMAMER )"
   ]
  },
  {
   "cell_type": "markdown",
   "id": "82b71a73",
   "metadata": {},
   "source": [
    "# Exploring data with a Pandas dataframe\n",
    "\n",
    "The following cells extract data from the OMArk output file to make their exploration easiers.\n",
    "\n",
    "The **full_df** dataframe is a combination of consistency and completeness data using the OMAmer mapping. It is possible to filter them by consistent category or completess category.   \n",
    "Other dataframes are output by this cell that corresponds to the composite cell:   \n",
    "The **completeness_df** dataframe consists only of completeness results for each HOG.   \n",
    "The **consistenct_df** dataframe conssists only of consistency assesment for each gene in the proteome.   \n",
    "The **omamer_df** dataframe is a reproduction of the OMAmer file.   "
   ]
  },
  {
   "cell_type": "code",
   "execution_count": 10,
   "id": "955e9d23",
   "metadata": {},
   "outputs": [],
   "source": [
    "full_df, completeness_df, consistency_df, omamer_df = oc.get_data_total(PATH, OMAMER )\n",
    "level = oc.get_level(PATH)"
   ]
  },
  {
   "cell_type": "code",
   "execution_count": 11,
   "id": "d3101d81",
   "metadata": {},
   "outputs": [
    {
     "data": {
      "text/html": [
       "<div>\n",
       "<style scoped>\n",
       "    .dataframe tbody tr th:only-of-type {\n",
       "        vertical-align: middle;\n",
       "    }\n",
       "\n",
       "    .dataframe tbody tr th {\n",
       "        vertical-align: top;\n",
       "    }\n",
       "\n",
       "    .dataframe thead th {\n",
       "        text-align: right;\n",
       "    }\n",
       "</style>\n",
       "<table border=\"1\" class=\"dataframe\">\n",
       "  <thead>\n",
       "    <tr style=\"text-align: right;\">\n",
       "      <th></th>\n",
       "      <th>gene</th>\n",
       "      <th>Consistency_Category</th>\n",
       "      <th>structure</th>\n",
       "      <th>HOG</th>\n",
       "      <th>hoglevel</th>\n",
       "      <th>family_p</th>\n",
       "      <th>family_count</th>\n",
       "      <th>family_normcount</th>\n",
       "      <th>subfamily_score</th>\n",
       "      <th>subfamily_count</th>\n",
       "      <th>qseqlen</th>\n",
       "      <th>subfamily_medianseqlen</th>\n",
       "      <th>qseq_overlap</th>\n",
       "      <th>Completeness_Category</th>\n",
       "    </tr>\n",
       "  </thead>\n",
       "  <tbody>\n",
       "    <tr>\n",
       "      <th>0</th>\n",
       "      <td>Rubezhnoe-10021943-RA</td>\n",
       "      <td>Inconsistent</td>\n",
       "      <td>Partial</td>\n",
       "      <td>HOG:E0018067</td>\n",
       "      <td>Archaea</td>\n",
       "      <td>19.326879389454433</td>\n",
       "      <td>7</td>\n",
       "      <td>0.04051873811575978</td>\n",
       "      <td>N/A</td>\n",
       "      <td>N/A</td>\n",
       "      <td>179.0</td>\n",
       "      <td>123.0</td>\n",
       "      <td>0.19662921348314608</td>\n",
       "      <td>NaN</td>\n",
       "    </tr>\n",
       "    <tr>\n",
       "      <th>1</th>\n",
       "      <td>Rubezhnoe-10021555-RA</td>\n",
       "      <td>Inconsistent</td>\n",
       "      <td>Partial</td>\n",
       "      <td>HOG:E0071749</td>\n",
       "      <td>Ochrophyta</td>\n",
       "      <td>22.04650713133165</td>\n",
       "      <td>28</td>\n",
       "      <td>0.07793177867697161</td>\n",
       "      <td>N/A</td>\n",
       "      <td>N/A</td>\n",
       "      <td>367.0</td>\n",
       "      <td>1207.0</td>\n",
       "      <td>0.5245901639344263</td>\n",
       "      <td>NaN</td>\n",
       "    </tr>\n",
       "    <tr>\n",
       "      <th>2</th>\n",
       "      <td>Rubezhnoe-10025254-RA</td>\n",
       "      <td>Inconsistent</td>\n",
       "      <td>Partial</td>\n",
       "      <td>HOG:E0104858</td>\n",
       "      <td>Paramecium</td>\n",
       "      <td>20.999895489574385</td>\n",
       "      <td>5</td>\n",
       "      <td>0.043081070722571294</td>\n",
       "      <td>N/A</td>\n",
       "      <td>N/A</td>\n",
       "      <td>737.0</td>\n",
       "      <td>218.0</td>\n",
       "      <td>0.7744565217391305</td>\n",
       "      <td>NaN</td>\n",
       "    </tr>\n",
       "    <tr>\n",
       "      <th>3</th>\n",
       "      <td>Rubezhnoe-10024357-RA</td>\n",
       "      <td>Inconsistent</td>\n",
       "      <td>Partial</td>\n",
       "      <td>HOG:E0104869</td>\n",
       "      <td>Paramecium</td>\n",
       "      <td>18.048644887813236</td>\n",
       "      <td>5</td>\n",
       "      <td>0.03161569888240414</td>\n",
       "      <td>N/A</td>\n",
       "      <td>N/A</td>\n",
       "      <td>190.0</td>\n",
       "      <td>563.0</td>\n",
       "      <td>0.2857142857142857</td>\n",
       "      <td>NaN</td>\n",
       "    </tr>\n",
       "    <tr>\n",
       "      <th>4</th>\n",
       "      <td>Rubezhnoe-10009095-RA</td>\n",
       "      <td>Inconsistent</td>\n",
       "      <td>Partial</td>\n",
       "      <td>HOG:E0136472</td>\n",
       "      <td>Plasmodium falciparum</td>\n",
       "      <td>15.179008963917884</td>\n",
       "      <td>4</td>\n",
       "      <td>0.04442570395974416</td>\n",
       "      <td>N/A</td>\n",
       "      <td>N/A</td>\n",
       "      <td>96.0</td>\n",
       "      <td>260.0</td>\n",
       "      <td>0.7789473684210526</td>\n",
       "      <td>NaN</td>\n",
       "    </tr>\n",
       "    <tr>\n",
       "      <th>...</th>\n",
       "      <td>...</td>\n",
       "      <td>...</td>\n",
       "      <td>...</td>\n",
       "      <td>...</td>\n",
       "      <td>...</td>\n",
       "      <td>...</td>\n",
       "      <td>...</td>\n",
       "      <td>...</td>\n",
       "      <td>...</td>\n",
       "      <td>...</td>\n",
       "      <td>...</td>\n",
       "      <td>...</td>\n",
       "      <td>...</td>\n",
       "      <td>...</td>\n",
       "    </tr>\n",
       "    <tr>\n",
       "      <th>28555</th>\n",
       "      <td>Rubezhnoe-10018901-RA</td>\n",
       "      <td>Unknown</td>\n",
       "      <td>None</td>\n",
       "      <td>N/A</td>\n",
       "      <td>N/A</td>\n",
       "      <td>N/A</td>\n",
       "      <td>N/A</td>\n",
       "      <td>N/A</td>\n",
       "      <td>N/A</td>\n",
       "      <td>N/A</td>\n",
       "      <td>383.0</td>\n",
       "      <td>NaN</td>\n",
       "      <td>N/A</td>\n",
       "      <td>NaN</td>\n",
       "    </tr>\n",
       "    <tr>\n",
       "      <th>28556</th>\n",
       "      <td>Rubezhnoe-10018905-RA</td>\n",
       "      <td>Unknown</td>\n",
       "      <td>None</td>\n",
       "      <td>N/A</td>\n",
       "      <td>N/A</td>\n",
       "      <td>N/A</td>\n",
       "      <td>N/A</td>\n",
       "      <td>N/A</td>\n",
       "      <td>N/A</td>\n",
       "      <td>N/A</td>\n",
       "      <td>63.0</td>\n",
       "      <td>NaN</td>\n",
       "      <td>N/A</td>\n",
       "      <td>NaN</td>\n",
       "    </tr>\n",
       "    <tr>\n",
       "      <th>28557</th>\n",
       "      <td>Rubezhnoe-10018906-RA</td>\n",
       "      <td>Unknown</td>\n",
       "      <td>None</td>\n",
       "      <td>N/A</td>\n",
       "      <td>N/A</td>\n",
       "      <td>N/A</td>\n",
       "      <td>N/A</td>\n",
       "      <td>N/A</td>\n",
       "      <td>N/A</td>\n",
       "      <td>N/A</td>\n",
       "      <td>92.0</td>\n",
       "      <td>NaN</td>\n",
       "      <td>N/A</td>\n",
       "      <td>NaN</td>\n",
       "    </tr>\n",
       "    <tr>\n",
       "      <th>28558</th>\n",
       "      <td>Rubezhnoe-10018908-RA</td>\n",
       "      <td>Unknown</td>\n",
       "      <td>None</td>\n",
       "      <td>N/A</td>\n",
       "      <td>N/A</td>\n",
       "      <td>N/A</td>\n",
       "      <td>N/A</td>\n",
       "      <td>N/A</td>\n",
       "      <td>N/A</td>\n",
       "      <td>N/A</td>\n",
       "      <td>193.0</td>\n",
       "      <td>NaN</td>\n",
       "      <td>N/A</td>\n",
       "      <td>NaN</td>\n",
       "    </tr>\n",
       "    <tr>\n",
       "      <th>28559</th>\n",
       "      <td>Rubezhnoe-10021831-RA</td>\n",
       "      <td>Unknown</td>\n",
       "      <td>None</td>\n",
       "      <td>N/A</td>\n",
       "      <td>N/A</td>\n",
       "      <td>N/A</td>\n",
       "      <td>N/A</td>\n",
       "      <td>N/A</td>\n",
       "      <td>N/A</td>\n",
       "      <td>N/A</td>\n",
       "      <td>74.0</td>\n",
       "      <td>NaN</td>\n",
       "      <td>N/A</td>\n",
       "      <td>NaN</td>\n",
       "    </tr>\n",
       "  </tbody>\n",
       "</table>\n",
       "<p>28560 rows × 14 columns</p>\n",
       "</div>"
      ],
      "text/plain": [
       "                        gene Consistency_Category structure           HOG  \\\n",
       "0      Rubezhnoe-10021943-RA         Inconsistent   Partial  HOG:E0018067   \n",
       "1      Rubezhnoe-10021555-RA         Inconsistent   Partial  HOG:E0071749   \n",
       "2      Rubezhnoe-10025254-RA         Inconsistent   Partial  HOG:E0104858   \n",
       "3      Rubezhnoe-10024357-RA         Inconsistent   Partial  HOG:E0104869   \n",
       "4      Rubezhnoe-10009095-RA         Inconsistent   Partial  HOG:E0136472   \n",
       "...                      ...                  ...       ...           ...   \n",
       "28555  Rubezhnoe-10018901-RA              Unknown      None           N/A   \n",
       "28556  Rubezhnoe-10018905-RA              Unknown      None           N/A   \n",
       "28557  Rubezhnoe-10018906-RA              Unknown      None           N/A   \n",
       "28558  Rubezhnoe-10018908-RA              Unknown      None           N/A   \n",
       "28559  Rubezhnoe-10021831-RA              Unknown      None           N/A   \n",
       "\n",
       "                    hoglevel            family_p family_count  \\\n",
       "0                    Archaea  19.326879389454433            7   \n",
       "1                 Ochrophyta   22.04650713133165           28   \n",
       "2                 Paramecium  20.999895489574385            5   \n",
       "3                 Paramecium  18.048644887813236            5   \n",
       "4      Plasmodium falciparum  15.179008963917884            4   \n",
       "...                      ...                 ...          ...   \n",
       "28555                    N/A                 N/A          N/A   \n",
       "28556                    N/A                 N/A          N/A   \n",
       "28557                    N/A                 N/A          N/A   \n",
       "28558                    N/A                 N/A          N/A   \n",
       "28559                    N/A                 N/A          N/A   \n",
       "\n",
       "           family_normcount subfamily_score subfamily_count  qseqlen  \\\n",
       "0       0.04051873811575978             N/A             N/A    179.0   \n",
       "1       0.07793177867697161             N/A             N/A    367.0   \n",
       "2      0.043081070722571294             N/A             N/A    737.0   \n",
       "3       0.03161569888240414             N/A             N/A    190.0   \n",
       "4       0.04442570395974416             N/A             N/A     96.0   \n",
       "...                     ...             ...             ...      ...   \n",
       "28555                   N/A             N/A             N/A    383.0   \n",
       "28556                   N/A             N/A             N/A     63.0   \n",
       "28557                   N/A             N/A             N/A     92.0   \n",
       "28558                   N/A             N/A             N/A    193.0   \n",
       "28559                   N/A             N/A             N/A     74.0   \n",
       "\n",
       "       subfamily_medianseqlen         qseq_overlap Completeness_Category  \n",
       "0                       123.0  0.19662921348314608                   NaN  \n",
       "1                      1207.0   0.5245901639344263                   NaN  \n",
       "2                       218.0   0.7744565217391305                   NaN  \n",
       "3                       563.0   0.2857142857142857                   NaN  \n",
       "4                       260.0   0.7789473684210526                   NaN  \n",
       "...                       ...                  ...                   ...  \n",
       "28555                     NaN                  N/A                   NaN  \n",
       "28556                     NaN                  N/A                   NaN  \n",
       "28557                     NaN                  N/A                   NaN  \n",
       "28558                     NaN                  N/A                   NaN  \n",
       "28559                     NaN                  N/A                   NaN  \n",
       "\n",
       "[28560 rows x 14 columns]"
      ]
     },
     "execution_count": 11,
     "metadata": {},
     "output_type": "execute_result"
    }
   ],
   "source": [
    "full_df"
   ]
  },
  {
   "cell_type": "markdown",
   "id": "71b5f0dd",
   "metadata": {},
   "source": [
    "# Fragments analysis"
   ]
  },
  {
   "cell_type": "markdown",
   "id": "28362487",
   "metadata": {},
   "source": [
    "This section of the Notebook is meant to delve into the fragmentary genes in your genome of interests and to help correct them using the OMA Browser data. There are three options depending of your goal, available in the three subsections below. \n",
    "\n",
    "**Choose one of the options, run the code then go to export**\n",
    "\n",
    "Options are:\n",
    "- All fragments: look for all genes annotated as fragments by OMArk\n",
    "- Linked fragments: only groups of more than one fragmennts that correspond to the same HOG (Stringent set)\n",
    "- Fragments and linked genes: look for all fragments as well as other \"genes\" mapping to the same HOG and smaller than expected (Not small enough to be noted as fragments but may be) - (Extensive set)"
   ]
  },
  {
   "cell_type": "code",
   "execution_count": 12,
   "id": "3a51b082",
   "metadata": {},
   "outputs": [],
   "source": [
    "#WARNING - run this\n",
    "kept_info = ['gene', 'Consistency_Category', 'structure', 'HOG', 'qseqlen', 'subfamily_medianseqlen', 'Completeness_Category']\n",
    "fragment_df =  full_df[full_df['structure']=='Fragment'][kept_info]\n"
   ]
  },
  {
   "cell_type": "markdown",
   "id": "d3e69bc2",
   "metadata": {},
   "source": [
    "### All fragments"
   ]
  },
  {
   "cell_type": "code",
   "execution_count": 13,
   "id": "3be04a50",
   "metadata": {},
   "outputs": [],
   "source": [
    "possible_fragments = fragment_df"
   ]
  },
  {
   "cell_type": "markdown",
   "id": "07767acc",
   "metadata": {},
   "source": [
    "### Linked fragments"
   ]
  },
  {
   "cell_type": "code",
   "execution_count": 14,
   "id": "c47a3d7c",
   "metadata": {},
   "outputs": [],
   "source": [
    "possible_fragments = fragment_df[fragment_df['HOG'].duplicated(keep=False)]\n"
   ]
  },
  {
   "cell_type": "markdown",
   "id": "90614df9",
   "metadata": {},
   "source": [
    "### Fragments and linked genes"
   ]
  },
  {
   "cell_type": "code",
   "execution_count": 15,
   "id": "2d12c48d",
   "metadata": {
    "scrolled": true
   },
   "outputs": [],
   "source": [
    "len_threshod  = 0.8\n",
    "\n",
    "hog_with_fragment = list(fragment_df['HOG'].unique())\n",
    "possible_fragments = full_df[full_df['HOG'].isin(hog_with_fragment)][kept_info].sort_values(by='HOG')\n",
    "possible_fragments = possible_fragments[possible_fragments['qseqlen']<0.8*possible_fragments['subfamily_medianseqlen']]\n"
   ]
  },
  {
   "cell_type": "markdown",
   "id": "450224a1",
   "metadata": {},
   "source": [
    "## Get sequence  of fragmented HOGs"
   ]
  },
  {
   "cell_type": "markdown",
   "id": "edf0c9e6",
   "metadata": {},
   "source": [
    "We uses the OMA API to obtain sequence for the HOGs that corresponds to the fragment to obtain example sequences for those HOGs.   \n",
    "The next cell extract the unique identifier of each HOG reported as being part of the Fragment set.  \n",
    "Then each example sequence are downloaded.   \n",
    "Finally they are written to a FASTA file."
   ]
  },
  {
   "cell_type": "code",
   "execution_count": 16,
   "id": "1249c687",
   "metadata": {},
   "outputs": [
    {
     "name": "stdout",
     "output_type": "stream",
     "text": [
      "524 different HOGs\n"
     ]
    }
   ],
   "source": [
    "#Extract uniq HOGs\n",
    "uniq_HOGs = list(possible_fragments['HOG'].unique())\n",
    "hog_to_medseqlen  = {k: v for k, v in zip(possible_fragments['HOG'], possible_fragments['subfamily_medianseqlen'])}\n",
    "hog_genes = {}\n",
    "for hog, seq in zip(possible_fragments['HOG'],possible_fragments['gene']):\n",
    "    glist = hog_genes.get(hog, [])\n",
    "    glist.append(seq)\n",
    "    hog_genes[hog] =glist\n",
    "hog_genes\n",
    "print(f'{len(hog_genes)} different HOGs')"
   ]
  },
  {
   "cell_type": "code",
   "execution_count": 18,
   "id": "897d05e4",
   "metadata": {},
   "outputs": [
    {
     "name": "stderr",
     "output_type": "stream",
     "text": [
      " 68%|██████▊   | 354/524 [04:56<02:22,  1.19it/s]\n"
     ]
    },
    {
     "ename": "ClientTimeout",
     "evalue": "API timed out after60s.",
     "output_type": "error",
     "traceback": [
      "\u001b[0;31m---------------------------------------------------------------------------\u001b[0m",
      "\u001b[0;31mTimeoutError\u001b[0m                              Traceback (most recent call last)",
      "File \u001b[0;32m~/anaconda3/envs/omark_env/lib/python3.10/site-packages/urllib3/connectionpool.py:536\u001b[0m, in \u001b[0;36mHTTPConnectionPool._make_request\u001b[0;34m(self, conn, method, url, body, headers, retries, timeout, chunked, response_conn, preload_content, decode_content, enforce_content_length)\u001b[0m\n\u001b[1;32m    535\u001b[0m \u001b[38;5;28;01mtry\u001b[39;00m:\n\u001b[0;32m--> 536\u001b[0m     response \u001b[38;5;241m=\u001b[39m \u001b[43mconn\u001b[49m\u001b[38;5;241;43m.\u001b[39;49m\u001b[43mgetresponse\u001b[49m\u001b[43m(\u001b[49m\u001b[43m)\u001b[49m\n\u001b[1;32m    537\u001b[0m \u001b[38;5;28;01mexcept\u001b[39;00m (BaseSSLError, \u001b[38;5;167;01mOSError\u001b[39;00m) \u001b[38;5;28;01mas\u001b[39;00m e:\n",
      "File \u001b[0;32m~/anaconda3/envs/omark_env/lib/python3.10/site-packages/urllib3/connection.py:507\u001b[0m, in \u001b[0;36mHTTPConnection.getresponse\u001b[0;34m(self)\u001b[0m\n\u001b[1;32m    506\u001b[0m \u001b[38;5;66;03m# Get the response from http.client.HTTPConnection\u001b[39;00m\n\u001b[0;32m--> 507\u001b[0m httplib_response \u001b[38;5;241m=\u001b[39m \u001b[38;5;28;43msuper\u001b[39;49m\u001b[43m(\u001b[49m\u001b[43m)\u001b[49m\u001b[38;5;241;43m.\u001b[39;49m\u001b[43mgetresponse\u001b[49m\u001b[43m(\u001b[49m\u001b[43m)\u001b[49m\n\u001b[1;32m    509\u001b[0m \u001b[38;5;28;01mtry\u001b[39;00m:\n",
      "File \u001b[0;32m~/anaconda3/envs/omark_env/lib/python3.10/http/client.py:1375\u001b[0m, in \u001b[0;36mHTTPConnection.getresponse\u001b[0;34m(self)\u001b[0m\n\u001b[1;32m   1374\u001b[0m \u001b[38;5;28;01mtry\u001b[39;00m:\n\u001b[0;32m-> 1375\u001b[0m     \u001b[43mresponse\u001b[49m\u001b[38;5;241;43m.\u001b[39;49m\u001b[43mbegin\u001b[49m\u001b[43m(\u001b[49m\u001b[43m)\u001b[49m\n\u001b[1;32m   1376\u001b[0m \u001b[38;5;28;01mexcept\u001b[39;00m \u001b[38;5;167;01mConnectionError\u001b[39;00m:\n",
      "File \u001b[0;32m~/anaconda3/envs/omark_env/lib/python3.10/http/client.py:318\u001b[0m, in \u001b[0;36mHTTPResponse.begin\u001b[0;34m(self)\u001b[0m\n\u001b[1;32m    317\u001b[0m \u001b[38;5;28;01mwhile\u001b[39;00m \u001b[38;5;28;01mTrue\u001b[39;00m:\n\u001b[0;32m--> 318\u001b[0m     version, status, reason \u001b[38;5;241m=\u001b[39m \u001b[38;5;28;43mself\u001b[39;49m\u001b[38;5;241;43m.\u001b[39;49m\u001b[43m_read_status\u001b[49m\u001b[43m(\u001b[49m\u001b[43m)\u001b[49m\n\u001b[1;32m    319\u001b[0m     \u001b[38;5;28;01mif\u001b[39;00m status \u001b[38;5;241m!=\u001b[39m CONTINUE:\n",
      "File \u001b[0;32m~/anaconda3/envs/omark_env/lib/python3.10/http/client.py:279\u001b[0m, in \u001b[0;36mHTTPResponse._read_status\u001b[0;34m(self)\u001b[0m\n\u001b[1;32m    278\u001b[0m \u001b[38;5;28;01mdef\u001b[39;00m \u001b[38;5;21m_read_status\u001b[39m(\u001b[38;5;28mself\u001b[39m):\n\u001b[0;32m--> 279\u001b[0m     line \u001b[38;5;241m=\u001b[39m \u001b[38;5;28mstr\u001b[39m(\u001b[38;5;28;43mself\u001b[39;49m\u001b[38;5;241;43m.\u001b[39;49m\u001b[43mfp\u001b[49m\u001b[38;5;241;43m.\u001b[39;49m\u001b[43mreadline\u001b[49m\u001b[43m(\u001b[49m\u001b[43m_MAXLINE\u001b[49m\u001b[43m \u001b[49m\u001b[38;5;241;43m+\u001b[39;49m\u001b[43m \u001b[49m\u001b[38;5;241;43m1\u001b[39;49m\u001b[43m)\u001b[49m, \u001b[38;5;124m\"\u001b[39m\u001b[38;5;124miso-8859-1\u001b[39m\u001b[38;5;124m\"\u001b[39m)\n\u001b[1;32m    280\u001b[0m     \u001b[38;5;28;01mif\u001b[39;00m \u001b[38;5;28mlen\u001b[39m(line) \u001b[38;5;241m>\u001b[39m _MAXLINE:\n",
      "File \u001b[0;32m~/anaconda3/envs/omark_env/lib/python3.10/socket.py:717\u001b[0m, in \u001b[0;36mSocketIO.readinto\u001b[0;34m(self, b)\u001b[0m\n\u001b[1;32m    716\u001b[0m \u001b[38;5;28;01mtry\u001b[39;00m:\n\u001b[0;32m--> 717\u001b[0m     \u001b[38;5;28;01mreturn\u001b[39;00m \u001b[38;5;28;43mself\u001b[39;49m\u001b[38;5;241;43m.\u001b[39;49m\u001b[43m_sock\u001b[49m\u001b[38;5;241;43m.\u001b[39;49m\u001b[43mrecv_into\u001b[49m\u001b[43m(\u001b[49m\u001b[43mb\u001b[49m\u001b[43m)\u001b[49m\n\u001b[1;32m    718\u001b[0m \u001b[38;5;28;01mexcept\u001b[39;00m timeout:\n",
      "File \u001b[0;32m~/anaconda3/envs/omark_env/lib/python3.10/ssl.py:1307\u001b[0m, in \u001b[0;36mSSLSocket.recv_into\u001b[0;34m(self, buffer, nbytes, flags)\u001b[0m\n\u001b[1;32m   1304\u001b[0m         \u001b[38;5;28;01mraise\u001b[39;00m \u001b[38;5;167;01mValueError\u001b[39;00m(\n\u001b[1;32m   1305\u001b[0m           \u001b[38;5;124m\"\u001b[39m\u001b[38;5;124mnon-zero flags not allowed in calls to recv_into() on \u001b[39m\u001b[38;5;132;01m%s\u001b[39;00m\u001b[38;5;124m\"\u001b[39m \u001b[38;5;241m%\u001b[39m\n\u001b[1;32m   1306\u001b[0m           \u001b[38;5;28mself\u001b[39m\u001b[38;5;241m.\u001b[39m\u001b[38;5;18m__class__\u001b[39m)\n\u001b[0;32m-> 1307\u001b[0m     \u001b[38;5;28;01mreturn\u001b[39;00m \u001b[38;5;28;43mself\u001b[39;49m\u001b[38;5;241;43m.\u001b[39;49m\u001b[43mread\u001b[49m\u001b[43m(\u001b[49m\u001b[43mnbytes\u001b[49m\u001b[43m,\u001b[49m\u001b[43m \u001b[49m\u001b[43mbuffer\u001b[49m\u001b[43m)\u001b[49m\n\u001b[1;32m   1308\u001b[0m \u001b[38;5;28;01melse\u001b[39;00m:\n",
      "File \u001b[0;32m~/anaconda3/envs/omark_env/lib/python3.10/ssl.py:1163\u001b[0m, in \u001b[0;36mSSLSocket.read\u001b[0;34m(self, len, buffer)\u001b[0m\n\u001b[1;32m   1162\u001b[0m \u001b[38;5;28;01mif\u001b[39;00m buffer \u001b[38;5;129;01mis\u001b[39;00m \u001b[38;5;129;01mnot\u001b[39;00m \u001b[38;5;28;01mNone\u001b[39;00m:\n\u001b[0;32m-> 1163\u001b[0m     \u001b[38;5;28;01mreturn\u001b[39;00m \u001b[38;5;28;43mself\u001b[39;49m\u001b[38;5;241;43m.\u001b[39;49m\u001b[43m_sslobj\u001b[49m\u001b[38;5;241;43m.\u001b[39;49m\u001b[43mread\u001b[49m\u001b[43m(\u001b[49m\u001b[38;5;28;43mlen\u001b[39;49m\u001b[43m,\u001b[49m\u001b[43m \u001b[49m\u001b[43mbuffer\u001b[49m\u001b[43m)\u001b[49m\n\u001b[1;32m   1164\u001b[0m \u001b[38;5;28;01melse\u001b[39;00m:\n",
      "\u001b[0;31mTimeoutError\u001b[0m: The read operation timed out",
      "\nThe above exception was the direct cause of the following exception:\n",
      "\u001b[0;31mReadTimeoutError\u001b[0m                          Traceback (most recent call last)",
      "File \u001b[0;32m~/anaconda3/envs/omark_env/lib/python3.10/site-packages/requests/adapters.py:667\u001b[0m, in \u001b[0;36mHTTPAdapter.send\u001b[0;34m(self, request, stream, timeout, verify, cert, proxies)\u001b[0m\n\u001b[1;32m    666\u001b[0m \u001b[38;5;28;01mtry\u001b[39;00m:\n\u001b[0;32m--> 667\u001b[0m     resp \u001b[38;5;241m=\u001b[39m \u001b[43mconn\u001b[49m\u001b[38;5;241;43m.\u001b[39;49m\u001b[43murlopen\u001b[49m\u001b[43m(\u001b[49m\n\u001b[1;32m    668\u001b[0m \u001b[43m        \u001b[49m\u001b[43mmethod\u001b[49m\u001b[38;5;241;43m=\u001b[39;49m\u001b[43mrequest\u001b[49m\u001b[38;5;241;43m.\u001b[39;49m\u001b[43mmethod\u001b[49m\u001b[43m,\u001b[49m\n\u001b[1;32m    669\u001b[0m \u001b[43m        \u001b[49m\u001b[43murl\u001b[49m\u001b[38;5;241;43m=\u001b[39;49m\u001b[43murl\u001b[49m\u001b[43m,\u001b[49m\n\u001b[1;32m    670\u001b[0m \u001b[43m        \u001b[49m\u001b[43mbody\u001b[49m\u001b[38;5;241;43m=\u001b[39;49m\u001b[43mrequest\u001b[49m\u001b[38;5;241;43m.\u001b[39;49m\u001b[43mbody\u001b[49m\u001b[43m,\u001b[49m\n\u001b[1;32m    671\u001b[0m \u001b[43m        \u001b[49m\u001b[43mheaders\u001b[49m\u001b[38;5;241;43m=\u001b[39;49m\u001b[43mrequest\u001b[49m\u001b[38;5;241;43m.\u001b[39;49m\u001b[43mheaders\u001b[49m\u001b[43m,\u001b[49m\n\u001b[1;32m    672\u001b[0m \u001b[43m        \u001b[49m\u001b[43mredirect\u001b[49m\u001b[38;5;241;43m=\u001b[39;49m\u001b[38;5;28;43;01mFalse\u001b[39;49;00m\u001b[43m,\u001b[49m\n\u001b[1;32m    673\u001b[0m \u001b[43m        \u001b[49m\u001b[43massert_same_host\u001b[49m\u001b[38;5;241;43m=\u001b[39;49m\u001b[38;5;28;43;01mFalse\u001b[39;49;00m\u001b[43m,\u001b[49m\n\u001b[1;32m    674\u001b[0m \u001b[43m        \u001b[49m\u001b[43mpreload_content\u001b[49m\u001b[38;5;241;43m=\u001b[39;49m\u001b[38;5;28;43;01mFalse\u001b[39;49;00m\u001b[43m,\u001b[49m\n\u001b[1;32m    675\u001b[0m \u001b[43m        \u001b[49m\u001b[43mdecode_content\u001b[49m\u001b[38;5;241;43m=\u001b[39;49m\u001b[38;5;28;43;01mFalse\u001b[39;49;00m\u001b[43m,\u001b[49m\n\u001b[1;32m    676\u001b[0m \u001b[43m        \u001b[49m\u001b[43mretries\u001b[49m\u001b[38;5;241;43m=\u001b[39;49m\u001b[38;5;28;43mself\u001b[39;49m\u001b[38;5;241;43m.\u001b[39;49m\u001b[43mmax_retries\u001b[49m\u001b[43m,\u001b[49m\n\u001b[1;32m    677\u001b[0m \u001b[43m        \u001b[49m\u001b[43mtimeout\u001b[49m\u001b[38;5;241;43m=\u001b[39;49m\u001b[43mtimeout\u001b[49m\u001b[43m,\u001b[49m\n\u001b[1;32m    678\u001b[0m \u001b[43m        \u001b[49m\u001b[43mchunked\u001b[49m\u001b[38;5;241;43m=\u001b[39;49m\u001b[43mchunked\u001b[49m\u001b[43m,\u001b[49m\n\u001b[1;32m    679\u001b[0m \u001b[43m    \u001b[49m\u001b[43m)\u001b[49m\n\u001b[1;32m    681\u001b[0m \u001b[38;5;28;01mexcept\u001b[39;00m (ProtocolError, \u001b[38;5;167;01mOSError\u001b[39;00m) \u001b[38;5;28;01mas\u001b[39;00m err:\n",
      "File \u001b[0;32m~/anaconda3/envs/omark_env/lib/python3.10/site-packages/urllib3/connectionpool.py:843\u001b[0m, in \u001b[0;36mHTTPConnectionPool.urlopen\u001b[0;34m(self, method, url, body, headers, retries, redirect, assert_same_host, timeout, pool_timeout, release_conn, chunked, body_pos, preload_content, decode_content, **response_kw)\u001b[0m\n\u001b[1;32m    841\u001b[0m     new_e \u001b[38;5;241m=\u001b[39m ProtocolError(\u001b[38;5;124m\"\u001b[39m\u001b[38;5;124mConnection aborted.\u001b[39m\u001b[38;5;124m\"\u001b[39m, new_e)\n\u001b[0;32m--> 843\u001b[0m retries \u001b[38;5;241m=\u001b[39m \u001b[43mretries\u001b[49m\u001b[38;5;241;43m.\u001b[39;49m\u001b[43mincrement\u001b[49m\u001b[43m(\u001b[49m\n\u001b[1;32m    844\u001b[0m \u001b[43m    \u001b[49m\u001b[43mmethod\u001b[49m\u001b[43m,\u001b[49m\u001b[43m \u001b[49m\u001b[43murl\u001b[49m\u001b[43m,\u001b[49m\u001b[43m \u001b[49m\u001b[43merror\u001b[49m\u001b[38;5;241;43m=\u001b[39;49m\u001b[43mnew_e\u001b[49m\u001b[43m,\u001b[49m\u001b[43m \u001b[49m\u001b[43m_pool\u001b[49m\u001b[38;5;241;43m=\u001b[39;49m\u001b[38;5;28;43mself\u001b[39;49m\u001b[43m,\u001b[49m\u001b[43m \u001b[49m\u001b[43m_stacktrace\u001b[49m\u001b[38;5;241;43m=\u001b[39;49m\u001b[43msys\u001b[49m\u001b[38;5;241;43m.\u001b[39;49m\u001b[43mexc_info\u001b[49m\u001b[43m(\u001b[49m\u001b[43m)\u001b[49m\u001b[43m[\u001b[49m\u001b[38;5;241;43m2\u001b[39;49m\u001b[43m]\u001b[49m\n\u001b[1;32m    845\u001b[0m \u001b[43m\u001b[49m\u001b[43m)\u001b[49m\n\u001b[1;32m    846\u001b[0m retries\u001b[38;5;241m.\u001b[39msleep()\n",
      "File \u001b[0;32m~/anaconda3/envs/omark_env/lib/python3.10/site-packages/urllib3/util/retry.py:474\u001b[0m, in \u001b[0;36mRetry.increment\u001b[0;34m(self, method, url, response, error, _pool, _stacktrace)\u001b[0m\n\u001b[1;32m    473\u001b[0m \u001b[38;5;28;01mif\u001b[39;00m read \u001b[38;5;129;01mis\u001b[39;00m \u001b[38;5;28;01mFalse\u001b[39;00m \u001b[38;5;129;01mor\u001b[39;00m method \u001b[38;5;129;01mis\u001b[39;00m \u001b[38;5;28;01mNone\u001b[39;00m \u001b[38;5;129;01mor\u001b[39;00m \u001b[38;5;129;01mnot\u001b[39;00m \u001b[38;5;28mself\u001b[39m\u001b[38;5;241m.\u001b[39m_is_method_retryable(method):\n\u001b[0;32m--> 474\u001b[0m     \u001b[38;5;28;01mraise\u001b[39;00m \u001b[43mreraise\u001b[49m\u001b[43m(\u001b[49m\u001b[38;5;28;43mtype\u001b[39;49m\u001b[43m(\u001b[49m\u001b[43merror\u001b[49m\u001b[43m)\u001b[49m\u001b[43m,\u001b[49m\u001b[43m \u001b[49m\u001b[43merror\u001b[49m\u001b[43m,\u001b[49m\u001b[43m \u001b[49m\u001b[43m_stacktrace\u001b[49m\u001b[43m)\u001b[49m\n\u001b[1;32m    475\u001b[0m \u001b[38;5;28;01melif\u001b[39;00m read \u001b[38;5;129;01mis\u001b[39;00m \u001b[38;5;129;01mnot\u001b[39;00m \u001b[38;5;28;01mNone\u001b[39;00m:\n",
      "File \u001b[0;32m~/anaconda3/envs/omark_env/lib/python3.10/site-packages/urllib3/util/util.py:39\u001b[0m, in \u001b[0;36mreraise\u001b[0;34m(tp, value, tb)\u001b[0m\n\u001b[1;32m     38\u001b[0m         \u001b[38;5;28;01mraise\u001b[39;00m value\u001b[38;5;241m.\u001b[39mwith_traceback(tb)\n\u001b[0;32m---> 39\u001b[0m     \u001b[38;5;28;01mraise\u001b[39;00m value\n\u001b[1;32m     40\u001b[0m \u001b[38;5;28;01mfinally\u001b[39;00m:\n",
      "File \u001b[0;32m~/anaconda3/envs/omark_env/lib/python3.10/site-packages/urllib3/connectionpool.py:789\u001b[0m, in \u001b[0;36mHTTPConnectionPool.urlopen\u001b[0;34m(self, method, url, body, headers, retries, redirect, assert_same_host, timeout, pool_timeout, release_conn, chunked, body_pos, preload_content, decode_content, **response_kw)\u001b[0m\n\u001b[1;32m    788\u001b[0m \u001b[38;5;66;03m# Make the request on the HTTPConnection object\u001b[39;00m\n\u001b[0;32m--> 789\u001b[0m response \u001b[38;5;241m=\u001b[39m \u001b[38;5;28;43mself\u001b[39;49m\u001b[38;5;241;43m.\u001b[39;49m\u001b[43m_make_request\u001b[49m\u001b[43m(\u001b[49m\n\u001b[1;32m    790\u001b[0m \u001b[43m    \u001b[49m\u001b[43mconn\u001b[49m\u001b[43m,\u001b[49m\n\u001b[1;32m    791\u001b[0m \u001b[43m    \u001b[49m\u001b[43mmethod\u001b[49m\u001b[43m,\u001b[49m\n\u001b[1;32m    792\u001b[0m \u001b[43m    \u001b[49m\u001b[43murl\u001b[49m\u001b[43m,\u001b[49m\n\u001b[1;32m    793\u001b[0m \u001b[43m    \u001b[49m\u001b[43mtimeout\u001b[49m\u001b[38;5;241;43m=\u001b[39;49m\u001b[43mtimeout_obj\u001b[49m\u001b[43m,\u001b[49m\n\u001b[1;32m    794\u001b[0m \u001b[43m    \u001b[49m\u001b[43mbody\u001b[49m\u001b[38;5;241;43m=\u001b[39;49m\u001b[43mbody\u001b[49m\u001b[43m,\u001b[49m\n\u001b[1;32m    795\u001b[0m \u001b[43m    \u001b[49m\u001b[43mheaders\u001b[49m\u001b[38;5;241;43m=\u001b[39;49m\u001b[43mheaders\u001b[49m\u001b[43m,\u001b[49m\n\u001b[1;32m    796\u001b[0m \u001b[43m    \u001b[49m\u001b[43mchunked\u001b[49m\u001b[38;5;241;43m=\u001b[39;49m\u001b[43mchunked\u001b[49m\u001b[43m,\u001b[49m\n\u001b[1;32m    797\u001b[0m \u001b[43m    \u001b[49m\u001b[43mretries\u001b[49m\u001b[38;5;241;43m=\u001b[39;49m\u001b[43mretries\u001b[49m\u001b[43m,\u001b[49m\n\u001b[1;32m    798\u001b[0m \u001b[43m    \u001b[49m\u001b[43mresponse_conn\u001b[49m\u001b[38;5;241;43m=\u001b[39;49m\u001b[43mresponse_conn\u001b[49m\u001b[43m,\u001b[49m\n\u001b[1;32m    799\u001b[0m \u001b[43m    \u001b[49m\u001b[43mpreload_content\u001b[49m\u001b[38;5;241;43m=\u001b[39;49m\u001b[43mpreload_content\u001b[49m\u001b[43m,\u001b[49m\n\u001b[1;32m    800\u001b[0m \u001b[43m    \u001b[49m\u001b[43mdecode_content\u001b[49m\u001b[38;5;241;43m=\u001b[39;49m\u001b[43mdecode_content\u001b[49m\u001b[43m,\u001b[49m\n\u001b[1;32m    801\u001b[0m \u001b[43m    \u001b[49m\u001b[38;5;241;43m*\u001b[39;49m\u001b[38;5;241;43m*\u001b[39;49m\u001b[43mresponse_kw\u001b[49m\u001b[43m,\u001b[49m\n\u001b[1;32m    802\u001b[0m \u001b[43m\u001b[49m\u001b[43m)\u001b[49m\n\u001b[1;32m    804\u001b[0m \u001b[38;5;66;03m# Everything went great!\u001b[39;00m\n",
      "File \u001b[0;32m~/anaconda3/envs/omark_env/lib/python3.10/site-packages/urllib3/connectionpool.py:538\u001b[0m, in \u001b[0;36mHTTPConnectionPool._make_request\u001b[0;34m(self, conn, method, url, body, headers, retries, timeout, chunked, response_conn, preload_content, decode_content, enforce_content_length)\u001b[0m\n\u001b[1;32m    537\u001b[0m \u001b[38;5;28;01mexcept\u001b[39;00m (BaseSSLError, \u001b[38;5;167;01mOSError\u001b[39;00m) \u001b[38;5;28;01mas\u001b[39;00m e:\n\u001b[0;32m--> 538\u001b[0m     \u001b[38;5;28;43mself\u001b[39;49m\u001b[38;5;241;43m.\u001b[39;49m\u001b[43m_raise_timeout\u001b[49m\u001b[43m(\u001b[49m\u001b[43merr\u001b[49m\u001b[38;5;241;43m=\u001b[39;49m\u001b[43me\u001b[49m\u001b[43m,\u001b[49m\u001b[43m \u001b[49m\u001b[43murl\u001b[49m\u001b[38;5;241;43m=\u001b[39;49m\u001b[43murl\u001b[49m\u001b[43m,\u001b[49m\u001b[43m \u001b[49m\u001b[43mtimeout_value\u001b[49m\u001b[38;5;241;43m=\u001b[39;49m\u001b[43mread_timeout\u001b[49m\u001b[43m)\u001b[49m\n\u001b[1;32m    539\u001b[0m     \u001b[38;5;28;01mraise\u001b[39;00m\n",
      "File \u001b[0;32m~/anaconda3/envs/omark_env/lib/python3.10/site-packages/urllib3/connectionpool.py:369\u001b[0m, in \u001b[0;36mHTTPConnectionPool._raise_timeout\u001b[0;34m(self, err, url, timeout_value)\u001b[0m\n\u001b[1;32m    368\u001b[0m \u001b[38;5;28;01mif\u001b[39;00m \u001b[38;5;28misinstance\u001b[39m(err, SocketTimeout):\n\u001b[0;32m--> 369\u001b[0m     \u001b[38;5;28;01mraise\u001b[39;00m ReadTimeoutError(\n\u001b[1;32m    370\u001b[0m         \u001b[38;5;28mself\u001b[39m, url, \u001b[38;5;124mf\u001b[39m\u001b[38;5;124m\"\u001b[39m\u001b[38;5;124mRead timed out. (read timeout=\u001b[39m\u001b[38;5;132;01m{\u001b[39;00mtimeout_value\u001b[38;5;132;01m}\u001b[39;00m\u001b[38;5;124m)\u001b[39m\u001b[38;5;124m\"\u001b[39m\n\u001b[1;32m    371\u001b[0m     ) \u001b[38;5;28;01mfrom\u001b[39;00m \u001b[38;5;21;01merr\u001b[39;00m\n\u001b[1;32m    373\u001b[0m \u001b[38;5;66;03m# See the above comment about EAGAIN in Python 3.\u001b[39;00m\n",
      "\u001b[0;31mReadTimeoutError\u001b[0m: HTTPSConnectionPool(host='omabrowser.org', port=443): Read timed out. (read timeout=60)",
      "\nDuring handling of the above exception, another exception occurred:\n",
      "\u001b[0;31mReadTimeout\u001b[0m                               Traceback (most recent call last)",
      "File \u001b[0;32m~/anaconda3/envs/omark_env/lib/python3.10/site-packages/omadb/OMARestAPI.py:448\u001b[0m, in \u001b[0;36mClient._request\u001b[0;34m(self, request_type, url, **kwargs)\u001b[0m\n\u001b[1;32m    447\u001b[0m \u001b[38;5;28;01mif\u001b[39;00m request_type \u001b[38;5;241m==\u001b[39m \u001b[38;5;124m'\u001b[39m\u001b[38;5;124mget\u001b[39m\u001b[38;5;124m'\u001b[39m:\n\u001b[0;32m--> 448\u001b[0m     r \u001b[38;5;241m=\u001b[39m \u001b[38;5;28;43mself\u001b[39;49m\u001b[38;5;241;43m.\u001b[39;49m\u001b[43m_request_get\u001b[49m\u001b[43m(\u001b[49m\u001b[43murl\u001b[49m\u001b[43m,\u001b[49m\u001b[43m \u001b[49m\u001b[38;5;241;43m*\u001b[39;49m\u001b[38;5;241;43m*\u001b[39;49m\u001b[43mparams\u001b[49m\u001b[43m)\u001b[49m\n\u001b[1;32m    449\u001b[0m \u001b[38;5;28;01melif\u001b[39;00m request_type \u001b[38;5;241m==\u001b[39m \u001b[38;5;124m'\u001b[39m\u001b[38;5;124mpost\u001b[39m\u001b[38;5;124m'\u001b[39m:\n",
      "File \u001b[0;32m~/anaconda3/envs/omark_env/lib/python3.10/site-packages/omadb/OMARestAPI.py:417\u001b[0m, in \u001b[0;36mClient._request_get\u001b[0;34m(self, url, **params)\u001b[0m\n\u001b[1;32m    416\u001b[0m LOG\u001b[38;5;241m.\u001b[39mdebug(\u001b[38;5;124mf\u001b[39m\u001b[38;5;124m'\u001b[39m\u001b[38;5;124mCalling GET \u001b[39m\u001b[38;5;132;01m{\u001b[39;00murl\u001b[38;5;132;01m}\u001b[39;00m\u001b[38;5;124m'\u001b[39m)\n\u001b[0;32m--> 417\u001b[0m \u001b[38;5;28;01mreturn\u001b[39;00m \u001b[38;5;28;43mself\u001b[39;49m\u001b[38;5;241;43m.\u001b[39;49m\u001b[43msession\u001b[49m\u001b[38;5;241;43m.\u001b[39;49m\u001b[43mget\u001b[49m\u001b[43m(\u001b[49m\n\u001b[1;32m    418\u001b[0m \u001b[43m        \u001b[49m\u001b[43murl\u001b[49m\u001b[43m,\u001b[49m\n\u001b[1;32m    419\u001b[0m \u001b[43m        \u001b[49m\u001b[43mheaders\u001b[49m\u001b[38;5;241;43m=\u001b[39;49m\u001b[38;5;28;43mself\u001b[39;49m\u001b[38;5;241;43m.\u001b[39;49m\u001b[43mHEADERS\u001b[49m\u001b[43m,\u001b[49m\n\u001b[1;32m    420\u001b[0m \u001b[43m        \u001b[49m\u001b[43mparams\u001b[49m\u001b[38;5;241;43m=\u001b[39;49m\u001b[43mparams\u001b[49m\u001b[43m,\u001b[49m\n\u001b[1;32m    421\u001b[0m \u001b[43m        \u001b[49m\u001b[43mtimeout\u001b[49m\u001b[38;5;241;43m=\u001b[39;49m\u001b[38;5;28;43mself\u001b[39;49m\u001b[38;5;241;43m.\u001b[39;49m\u001b[43mTIMEOUT\u001b[49m\n\u001b[1;32m    422\u001b[0m \u001b[43m        \u001b[49m\u001b[43m)\u001b[49m\n",
      "File \u001b[0;32m~/anaconda3/envs/omark_env/lib/python3.10/site-packages/requests/sessions.py:602\u001b[0m, in \u001b[0;36mSession.get\u001b[0;34m(self, url, **kwargs)\u001b[0m\n\u001b[1;32m    601\u001b[0m kwargs\u001b[38;5;241m.\u001b[39msetdefault(\u001b[38;5;124m\"\u001b[39m\u001b[38;5;124mallow_redirects\u001b[39m\u001b[38;5;124m\"\u001b[39m, \u001b[38;5;28;01mTrue\u001b[39;00m)\n\u001b[0;32m--> 602\u001b[0m \u001b[38;5;28;01mreturn\u001b[39;00m \u001b[38;5;28;43mself\u001b[39;49m\u001b[38;5;241;43m.\u001b[39;49m\u001b[43mrequest\u001b[49m\u001b[43m(\u001b[49m\u001b[38;5;124;43m\"\u001b[39;49m\u001b[38;5;124;43mGET\u001b[39;49m\u001b[38;5;124;43m\"\u001b[39;49m\u001b[43m,\u001b[49m\u001b[43m \u001b[49m\u001b[43murl\u001b[49m\u001b[43m,\u001b[49m\u001b[43m \u001b[49m\u001b[38;5;241;43m*\u001b[39;49m\u001b[38;5;241;43m*\u001b[39;49m\u001b[43mkwargs\u001b[49m\u001b[43m)\u001b[49m\n",
      "File \u001b[0;32m~/anaconda3/envs/omark_env/lib/python3.10/site-packages/requests/sessions.py:589\u001b[0m, in \u001b[0;36mSession.request\u001b[0;34m(self, method, url, params, data, headers, cookies, files, auth, timeout, allow_redirects, proxies, hooks, stream, verify, cert, json)\u001b[0m\n\u001b[1;32m    588\u001b[0m send_kwargs\u001b[38;5;241m.\u001b[39mupdate(settings)\n\u001b[0;32m--> 589\u001b[0m resp \u001b[38;5;241m=\u001b[39m \u001b[38;5;28;43mself\u001b[39;49m\u001b[38;5;241;43m.\u001b[39;49m\u001b[43msend\u001b[49m\u001b[43m(\u001b[49m\u001b[43mprep\u001b[49m\u001b[43m,\u001b[49m\u001b[43m \u001b[49m\u001b[38;5;241;43m*\u001b[39;49m\u001b[38;5;241;43m*\u001b[39;49m\u001b[43msend_kwargs\u001b[49m\u001b[43m)\u001b[49m\n\u001b[1;32m    591\u001b[0m \u001b[38;5;28;01mreturn\u001b[39;00m resp\n",
      "File \u001b[0;32m~/anaconda3/envs/omark_env/lib/python3.10/site-packages/requests/sessions.py:703\u001b[0m, in \u001b[0;36mSession.send\u001b[0;34m(self, request, **kwargs)\u001b[0m\n\u001b[1;32m    702\u001b[0m \u001b[38;5;66;03m# Send the request\u001b[39;00m\n\u001b[0;32m--> 703\u001b[0m r \u001b[38;5;241m=\u001b[39m \u001b[43madapter\u001b[49m\u001b[38;5;241;43m.\u001b[39;49m\u001b[43msend\u001b[49m\u001b[43m(\u001b[49m\u001b[43mrequest\u001b[49m\u001b[43m,\u001b[49m\u001b[43m \u001b[49m\u001b[38;5;241;43m*\u001b[39;49m\u001b[38;5;241;43m*\u001b[39;49m\u001b[43mkwargs\u001b[49m\u001b[43m)\u001b[49m\n\u001b[1;32m    705\u001b[0m \u001b[38;5;66;03m# Total elapsed time of the request (approximately)\u001b[39;00m\n",
      "File \u001b[0;32m~/anaconda3/envs/omark_env/lib/python3.10/site-packages/requests/adapters.py:713\u001b[0m, in \u001b[0;36mHTTPAdapter.send\u001b[0;34m(self, request, stream, timeout, verify, cert, proxies)\u001b[0m\n\u001b[1;32m    712\u001b[0m \u001b[38;5;28;01melif\u001b[39;00m \u001b[38;5;28misinstance\u001b[39m(e, ReadTimeoutError):\n\u001b[0;32m--> 713\u001b[0m     \u001b[38;5;28;01mraise\u001b[39;00m ReadTimeout(e, request\u001b[38;5;241m=\u001b[39mrequest)\n\u001b[1;32m    714\u001b[0m \u001b[38;5;28;01melif\u001b[39;00m \u001b[38;5;28misinstance\u001b[39m(e, _InvalidHeader):\n",
      "\u001b[0;31mReadTimeout\u001b[0m: HTTPSConnectionPool(host='omabrowser.org', port=443): Read timed out. (read timeout=60)",
      "\nDuring handling of the above exception, another exception occurred:\n",
      "\u001b[0;31mClientTimeout\u001b[0m                             Traceback (most recent call last)",
      "Cell \u001b[0;32mIn[18], line 2\u001b[0m\n\u001b[1;32m      1\u001b[0m \u001b[38;5;66;03m#Downloading sequences\u001b[39;00m\n\u001b[0;32m----> 2\u001b[0m sequence_of_hog \u001b[38;5;241m=\u001b[39m \u001b[43moc\u001b[49m\u001b[38;5;241;43m.\u001b[39;49m\u001b[43mget_sequences_hog\u001b[49m\u001b[43m(\u001b[49m\u001b[43muniq_HOGs\u001b[49m\u001b[43m,\u001b[49m\u001b[43m \u001b[49m\u001b[43mmedseqlen\u001b[49m\u001b[38;5;241;43m=\u001b[39;49m\u001b[43mhog_to_medseqlen\u001b[49m\u001b[43m)\u001b[49m\n",
      "File \u001b[0;32m~/Desktop/OMArk_contextualize/omark_contextualize.py:293\u001b[0m, in \u001b[0;36mget_sequences_hog\u001b[0;34m(hog_ids, nseq, medseqlen, level)\u001b[0m\n\u001b[1;32m    291\u001b[0m \u001b[38;5;28;01mif\u001b[39;00m level:\n\u001b[1;32m    292\u001b[0m     apir_members\u001b[38;5;241m.\u001b[39muri \u001b[38;5;241m+\u001b[39m\u001b[38;5;241m=\u001b[39m \u001b[38;5;124mf\u001b[39m\u001b[38;5;124m'\u001b[39m\u001b[38;5;124m?level=\u001b[39m\u001b[38;5;132;01m{\u001b[39;00mlevel\u001b[38;5;132;01m}\u001b[39;00m\u001b[38;5;124m'\u001b[39m\n\u001b[0;32m--> 293\u001b[0m hog_members \u001b[38;5;241m=\u001b[39m \u001b[43mapir_members\u001b[49m\u001b[43m(\u001b[49m\u001b[43m)\u001b[49m[\u001b[38;5;124m'\u001b[39m\u001b[38;5;124mmembers\u001b[39m\u001b[38;5;124m'\u001b[39m]\n\u001b[1;32m    294\u001b[0m hog_seq \u001b[38;5;241m=\u001b[39m []\n\u001b[1;32m    295\u001b[0m \u001b[38;5;28;01mfor\u001b[39;00m entry \u001b[38;5;129;01min\u001b[39;00m hog_members:\n",
      "File \u001b[0;32m~/anaconda3/envs/omark_env/lib/python3.10/site-packages/omadb/OMARestAPI.py:233\u001b[0m, in \u001b[0;36mClientRequest.__call__\u001b[0;34m(self)\u001b[0m\n\u001b[1;32m    232\u001b[0m \u001b[38;5;28;01mdef\u001b[39;00m \u001b[38;5;21m__call__\u001b[39m(\u001b[38;5;28mself\u001b[39m):\n\u001b[0;32m--> 233\u001b[0m     \u001b[38;5;28;01mreturn\u001b[39;00m \u001b[38;5;28;43mself\u001b[39;49m\u001b[38;5;241;43m.\u001b[39;49m\u001b[43mclient\u001b[49m\u001b[38;5;241;43m.\u001b[39;49m\u001b[43m_request\u001b[49m\u001b[43m(\u001b[49m\u001b[43muri\u001b[49m\u001b[38;5;241;43m=\u001b[39;49m\u001b[38;5;28;43mself\u001b[39;49m\u001b[38;5;241;43m.\u001b[39;49m\u001b[43muri\u001b[49m\u001b[43m)\u001b[49m\n",
      "File \u001b[0;32m~/anaconda3/envs/omark_env/lib/python3.10/site-packages/omadb/OMARestAPI.py:459\u001b[0m, in \u001b[0;36mClient._request\u001b[0;34m(self, request_type, url, **kwargs)\u001b[0m\n\u001b[1;32m    456\u001b[0m         \u001b[38;5;28;01mraise\u001b[39;00m \u001b[38;5;167;01mValueError\u001b[39;00m(\u001b[38;5;124m'\u001b[39m\u001b[38;5;124mUnsure how to deal with request type\u001b[39m\u001b[38;5;124m'\u001b[39m\n\u001b[1;32m    457\u001b[0m                          \u001b[38;5;124m'\u001b[39m\u001b[38;5;132;01m{}\u001b[39;00m\u001b[38;5;124m'\u001b[39m\u001b[38;5;241m.\u001b[39mformat(request_type))\n\u001b[1;32m    458\u001b[0m \u001b[38;5;28;01mexcept\u001b[39;00m requests\u001b[38;5;241m.\u001b[39mexceptions\u001b[38;5;241m.\u001b[39mTimeout:\n\u001b[0;32m--> 459\u001b[0m     \u001b[38;5;28;01mraise\u001b[39;00m ClientTimeout(\u001b[38;5;124m'\u001b[39m\u001b[38;5;124mAPI timed out after\u001b[39m\u001b[38;5;124m'\u001b[39m\n\u001b[1;32m    460\u001b[0m                         \u001b[38;5;124m'\u001b[39m\u001b[38;5;132;01m{}\u001b[39;00m\u001b[38;5;124ms.\u001b[39m\u001b[38;5;124m'\u001b[39m\u001b[38;5;241m.\u001b[39mformat(\u001b[38;5;28mself\u001b[39m\u001b[38;5;241m.\u001b[39mTIMEOUT))\n\u001b[1;32m    462\u001b[0m \u001b[38;5;66;03m# Check if response OK\u001b[39;00m\n\u001b[1;32m    463\u001b[0m response_status \u001b[38;5;241m=\u001b[39m \u001b[38;5;28;01mTrue\u001b[39;00m\n",
      "\u001b[0;31mClientTimeout\u001b[0m: API timed out after60s."
     ]
    }
   ],
   "source": [
    "#Downloading sequences\n",
    "sequence_of_hog = oc.get_sequences_hog(uniq_HOGs, medseqlen=hog_to_medseqlen)"
   ]
  },
  {
   "cell_type": "code",
   "execution_count": null,
   "id": "9874b05d",
   "metadata": {},
   "outputs": [],
   "source": [
    "# Write a FASTA file with the corresponding sequences. Here is the path to output\n",
    "SEQ_FASTA =  ''\n",
    "oc.write_FASTA_fragmented_HOGs(sequence_of_hog, hog_genes, SEQ_FASTA)"
   ]
  },
  {
   "cell_type": "markdown",
   "id": "014e13bd",
   "metadata": {},
   "source": [
    "### Procedure for fragment correction"
   ]
  },
  {
   "cell_type": "markdown",
   "id": "4a2f60c8",
   "metadata": {},
   "source": [
    "The FASTA file provided by the above code contains one (or more, depending of parameters) sequence(s) from each Hierarchical Orthologous Groups for which we detected sequences in the genome were fragmented. The identifier of each sequence is the HOG ID with an added number (In case there are many sequences)\n",
    "\n",
    "You can use it as an input of MiniProt (https://github.com/lh3/miniprot) to get a mapping of those HOGs to the genomic sequence. We recommend using the ```--gff``` option of MiniProt to obtain the results as the GFF file.  \n",
    "If MiniProt is installed in yout environment, you can use the below command line to run it, after setting the appropriate pathes."
   ]
  },
  {
   "cell_type": "code",
   "execution_count": null,
   "id": "7769e6f6",
   "metadata": {},
   "outputs": [],
   "source": [
    "#Path for MiniProt\n",
    "GENOMIC_FASTA  = ''\n",
    "MINIPROT_OUTPUT = ''"
   ]
  },
  {
   "cell_type": "code",
   "execution_count": null,
   "id": "97f6969c",
   "metadata": {},
   "outputs": [],
   "source": [
    "!miniprot miniprot -I --gff --outs=0.95 {GENOMIC_FASTA} {SEQ_FASTA} > {MINIPROT_OUTPUT}"
   ]
  },
  {
   "cell_type": "markdown",
   "id": "4ce4a5ee",
   "metadata": {},
   "source": [
    "You can then compare your gene models to the one predicted by MiniProt by homology, and merge them together if need be. \n",
    "Both your GFF file and the MiniProt file can be visualized alongside one another using a genome browser, like JBrowse2"
   ]
  },
  {
   "cell_type": "markdown",
   "id": "5145478e",
   "metadata": {},
   "source": [
    "# Missing genes analysis"
   ]
  },
  {
   "cell_type": "markdown",
   "id": "f8e205c3",
   "metadata": {},
   "source": [
    "This section of the Notebook is meant to delve into the missing genes in your proteome of interests and to help correct them using the OMA Browser data.   \n",
    "Here, we offer two complementary ways to help confirm missing genes or find them if they are present in the assembly.\n",
    "The first one is based on **reference sequences** for the missing HOGs, that can be exploited with methods such as Miniprot to find close sequences in the assembly.   \n",
    "The second one export information about the **ancestral synteny** of the missing HOGs and is meant to confirm or find these genes are missing by looking at their context.  \n",
    "  \n",
    "The folllowing cells get information about the missing HOGs in a dataframe, then extract the unique HOG identifiers for these genes."
   ]
  },
  {
   "cell_type": "code",
   "execution_count": 19,
   "id": "8666555d",
   "metadata": {
    "scrolled": false
   },
   "outputs": [
    {
     "data": {
      "text/html": [
       "<div>\n",
       "<style scoped>\n",
       "    .dataframe tbody tr th:only-of-type {\n",
       "        vertical-align: middle;\n",
       "    }\n",
       "\n",
       "    .dataframe tbody tr th {\n",
       "        vertical-align: top;\n",
       "    }\n",
       "\n",
       "    .dataframe thead th {\n",
       "        text-align: right;\n",
       "    }\n",
       "</style>\n",
       "<table border=\"1\" class=\"dataframe\">\n",
       "  <thead>\n",
       "    <tr style=\"text-align: right;\">\n",
       "      <th></th>\n",
       "      <th>gene</th>\n",
       "      <th>Consistency_Category</th>\n",
       "      <th>structure</th>\n",
       "      <th>HOG</th>\n",
       "      <th>hoglevel</th>\n",
       "      <th>family_p</th>\n",
       "      <th>family_count</th>\n",
       "      <th>family_normcount</th>\n",
       "      <th>subfamily_score</th>\n",
       "      <th>subfamily_count</th>\n",
       "      <th>qseqlen</th>\n",
       "      <th>subfamily_medianseqlen</th>\n",
       "      <th>qseq_overlap</th>\n",
       "      <th>Completeness_Category</th>\n",
       "    </tr>\n",
       "  </thead>\n",
       "  <tbody>\n",
       "    <tr>\n",
       "      <th>738</th>\n",
       "      <td>NaN</td>\n",
       "      <td>NaN</td>\n",
       "      <td>NaN</td>\n",
       "      <td>HOG:E0247921</td>\n",
       "      <td>NaN</td>\n",
       "      <td>NaN</td>\n",
       "      <td>NaN</td>\n",
       "      <td>NaN</td>\n",
       "      <td>NaN</td>\n",
       "      <td>NaN</td>\n",
       "      <td>NaN</td>\n",
       "      <td>NaN</td>\n",
       "      <td>NaN</td>\n",
       "      <td>Lost</td>\n",
       "    </tr>\n",
       "    <tr>\n",
       "      <th>739</th>\n",
       "      <td>NaN</td>\n",
       "      <td>NaN</td>\n",
       "      <td>NaN</td>\n",
       "      <td>HOG:E0247922</td>\n",
       "      <td>NaN</td>\n",
       "      <td>NaN</td>\n",
       "      <td>NaN</td>\n",
       "      <td>NaN</td>\n",
       "      <td>NaN</td>\n",
       "      <td>NaN</td>\n",
       "      <td>NaN</td>\n",
       "      <td>NaN</td>\n",
       "      <td>NaN</td>\n",
       "      <td>Lost</td>\n",
       "    </tr>\n",
       "    <tr>\n",
       "      <th>771</th>\n",
       "      <td>NaN</td>\n",
       "      <td>NaN</td>\n",
       "      <td>NaN</td>\n",
       "      <td>HOG:E0247939</td>\n",
       "      <td>NaN</td>\n",
       "      <td>NaN</td>\n",
       "      <td>NaN</td>\n",
       "      <td>NaN</td>\n",
       "      <td>NaN</td>\n",
       "      <td>NaN</td>\n",
       "      <td>NaN</td>\n",
       "      <td>NaN</td>\n",
       "      <td>NaN</td>\n",
       "      <td>Lost</td>\n",
       "    </tr>\n",
       "    <tr>\n",
       "      <th>801</th>\n",
       "      <td>NaN</td>\n",
       "      <td>NaN</td>\n",
       "      <td>NaN</td>\n",
       "      <td>HOG:E0247960</td>\n",
       "      <td>NaN</td>\n",
       "      <td>NaN</td>\n",
       "      <td>NaN</td>\n",
       "      <td>NaN</td>\n",
       "      <td>NaN</td>\n",
       "      <td>NaN</td>\n",
       "      <td>NaN</td>\n",
       "      <td>NaN</td>\n",
       "      <td>NaN</td>\n",
       "      <td>Lost</td>\n",
       "    </tr>\n",
       "    <tr>\n",
       "      <th>804</th>\n",
       "      <td>NaN</td>\n",
       "      <td>NaN</td>\n",
       "      <td>NaN</td>\n",
       "      <td>HOG:E0247963</td>\n",
       "      <td>NaN</td>\n",
       "      <td>NaN</td>\n",
       "      <td>NaN</td>\n",
       "      <td>NaN</td>\n",
       "      <td>NaN</td>\n",
       "      <td>NaN</td>\n",
       "      <td>NaN</td>\n",
       "      <td>NaN</td>\n",
       "      <td>NaN</td>\n",
       "      <td>Lost</td>\n",
       "    </tr>\n",
       "    <tr>\n",
       "      <th>...</th>\n",
       "      <td>...</td>\n",
       "      <td>...</td>\n",
       "      <td>...</td>\n",
       "      <td>...</td>\n",
       "      <td>...</td>\n",
       "      <td>...</td>\n",
       "      <td>...</td>\n",
       "      <td>...</td>\n",
       "      <td>...</td>\n",
       "      <td>...</td>\n",
       "      <td>...</td>\n",
       "      <td>...</td>\n",
       "      <td>...</td>\n",
       "      <td>...</td>\n",
       "    </tr>\n",
       "    <tr>\n",
       "      <th>27156</th>\n",
       "      <td>NaN</td>\n",
       "      <td>NaN</td>\n",
       "      <td>NaN</td>\n",
       "      <td>HOG:E1033577.1a.3b.4b.9a.2b.2c</td>\n",
       "      <td>NaN</td>\n",
       "      <td>NaN</td>\n",
       "      <td>NaN</td>\n",
       "      <td>NaN</td>\n",
       "      <td>NaN</td>\n",
       "      <td>NaN</td>\n",
       "      <td>NaN</td>\n",
       "      <td>NaN</td>\n",
       "      <td>NaN</td>\n",
       "      <td>Lost</td>\n",
       "    </tr>\n",
       "    <tr>\n",
       "      <th>27159</th>\n",
       "      <td>NaN</td>\n",
       "      <td>NaN</td>\n",
       "      <td>NaN</td>\n",
       "      <td>HOG:E1033613</td>\n",
       "      <td>NaN</td>\n",
       "      <td>NaN</td>\n",
       "      <td>NaN</td>\n",
       "      <td>NaN</td>\n",
       "      <td>NaN</td>\n",
       "      <td>NaN</td>\n",
       "      <td>NaN</td>\n",
       "      <td>NaN</td>\n",
       "      <td>NaN</td>\n",
       "      <td>Lost</td>\n",
       "    </tr>\n",
       "    <tr>\n",
       "      <th>27164</th>\n",
       "      <td>NaN</td>\n",
       "      <td>NaN</td>\n",
       "      <td>NaN</td>\n",
       "      <td>HOG:E1033803.1a.2b.15a</td>\n",
       "      <td>NaN</td>\n",
       "      <td>NaN</td>\n",
       "      <td>NaN</td>\n",
       "      <td>NaN</td>\n",
       "      <td>NaN</td>\n",
       "      <td>NaN</td>\n",
       "      <td>NaN</td>\n",
       "      <td>NaN</td>\n",
       "      <td>NaN</td>\n",
       "      <td>Lost</td>\n",
       "    </tr>\n",
       "    <tr>\n",
       "      <th>27180</th>\n",
       "      <td>NaN</td>\n",
       "      <td>NaN</td>\n",
       "      <td>NaN</td>\n",
       "      <td>HOG:E1034059.1a.1a.3b</td>\n",
       "      <td>NaN</td>\n",
       "      <td>NaN</td>\n",
       "      <td>NaN</td>\n",
       "      <td>NaN</td>\n",
       "      <td>NaN</td>\n",
       "      <td>NaN</td>\n",
       "      <td>NaN</td>\n",
       "      <td>NaN</td>\n",
       "      <td>NaN</td>\n",
       "      <td>Lost</td>\n",
       "    </tr>\n",
       "    <tr>\n",
       "      <th>27200</th>\n",
       "      <td>NaN</td>\n",
       "      <td>NaN</td>\n",
       "      <td>NaN</td>\n",
       "      <td>HOG:E1034116.1b.13b</td>\n",
       "      <td>NaN</td>\n",
       "      <td>NaN</td>\n",
       "      <td>NaN</td>\n",
       "      <td>NaN</td>\n",
       "      <td>NaN</td>\n",
       "      <td>NaN</td>\n",
       "      <td>NaN</td>\n",
       "      <td>NaN</td>\n",
       "      <td>NaN</td>\n",
       "      <td>Lost</td>\n",
       "    </tr>\n",
       "  </tbody>\n",
       "</table>\n",
       "<p>671 rows × 14 columns</p>\n",
       "</div>"
      ],
      "text/plain": [
       "      gene Consistency_Category structure                             HOG  \\\n",
       "738    NaN                  NaN       NaN                    HOG:E0247921   \n",
       "739    NaN                  NaN       NaN                    HOG:E0247922   \n",
       "771    NaN                  NaN       NaN                    HOG:E0247939   \n",
       "801    NaN                  NaN       NaN                    HOG:E0247960   \n",
       "804    NaN                  NaN       NaN                    HOG:E0247963   \n",
       "...    ...                  ...       ...                             ...   \n",
       "27156  NaN                  NaN       NaN  HOG:E1033577.1a.3b.4b.9a.2b.2c   \n",
       "27159  NaN                  NaN       NaN                    HOG:E1033613   \n",
       "27164  NaN                  NaN       NaN          HOG:E1033803.1a.2b.15a   \n",
       "27180  NaN                  NaN       NaN           HOG:E1034059.1a.1a.3b   \n",
       "27200  NaN                  NaN       NaN             HOG:E1034116.1b.13b   \n",
       "\n",
       "      hoglevel family_p family_count family_normcount subfamily_score  \\\n",
       "738        NaN      NaN          NaN              NaN             NaN   \n",
       "739        NaN      NaN          NaN              NaN             NaN   \n",
       "771        NaN      NaN          NaN              NaN             NaN   \n",
       "801        NaN      NaN          NaN              NaN             NaN   \n",
       "804        NaN      NaN          NaN              NaN             NaN   \n",
       "...        ...      ...          ...              ...             ...   \n",
       "27156      NaN      NaN          NaN              NaN             NaN   \n",
       "27159      NaN      NaN          NaN              NaN             NaN   \n",
       "27164      NaN      NaN          NaN              NaN             NaN   \n",
       "27180      NaN      NaN          NaN              NaN             NaN   \n",
       "27200      NaN      NaN          NaN              NaN             NaN   \n",
       "\n",
       "      subfamily_count  qseqlen  subfamily_medianseqlen qseq_overlap  \\\n",
       "738               NaN      NaN                     NaN          NaN   \n",
       "739               NaN      NaN                     NaN          NaN   \n",
       "771               NaN      NaN                     NaN          NaN   \n",
       "801               NaN      NaN                     NaN          NaN   \n",
       "804               NaN      NaN                     NaN          NaN   \n",
       "...               ...      ...                     ...          ...   \n",
       "27156             NaN      NaN                     NaN          NaN   \n",
       "27159             NaN      NaN                     NaN          NaN   \n",
       "27164             NaN      NaN                     NaN          NaN   \n",
       "27180             NaN      NaN                     NaN          NaN   \n",
       "27200             NaN      NaN                     NaN          NaN   \n",
       "\n",
       "      Completeness_Category  \n",
       "738                    Lost  \n",
       "739                    Lost  \n",
       "771                    Lost  \n",
       "801                    Lost  \n",
       "804                    Lost  \n",
       "...                     ...  \n",
       "27156                  Lost  \n",
       "27159                  Lost  \n",
       "27164                  Lost  \n",
       "27180                  Lost  \n",
       "27200                  Lost  \n",
       "\n",
       "[671 rows x 14 columns]"
      ]
     },
     "execution_count": 19,
     "metadata": {},
     "output_type": "execute_result"
    }
   ],
   "source": [
    "missing_df =  full_df[full_df['Completeness_Category']=='Lost']\n",
    "missing_df"
   ]
  },
  {
   "cell_type": "code",
   "execution_count": null,
   "id": "a2658194",
   "metadata": {},
   "outputs": [],
   "source": [
    "uniq_HOGs = list(missing_df['HOG'].unique())\n",
    "\n",
    "print(f'{len(uniq_HOGs)} different HOGs')"
   ]
  },
  {
   "cell_type": "markdown",
   "id": "173636f1",
   "metadata": {},
   "source": [
    "## Sequence validation"
   ]
  },
  {
   "cell_type": "markdown",
   "id": "81472483",
   "metadata": {},
   "source": [
    "This subsection extract reference sequences for the missing HOGs from this annotation and extract reference sequences for this from the OMA Browser, and write it as a FASTA file.\n",
    "This FASTA file can the be used to do mapping to the genome"
   ]
  },
  {
   "cell_type": "code",
   "execution_count": 20,
   "id": "cb353497",
   "metadata": {},
   "outputs": [
    {
     "name": "stderr",
     "output_type": "stream",
     "text": [
      "  0%|          | 2/524 [00:00<01:35,  5.44it/s]"
     ]
    },
    {
     "name": "stdout",
     "output_type": "stream",
     "text": [
      "HOG:E0140950\n",
      "ClientException('500 Server Error: Internal Server Error ')\n",
      "HOG:E0176511\n",
      "ClientException('500 Server Error: Internal Server Error ')\n"
     ]
    },
    {
     "name": "stderr",
     "output_type": "stream",
     "text": [
      "  1%|          | 4/524 [00:00<01:23,  6.24it/s]"
     ]
    },
    {
     "name": "stdout",
     "output_type": "stream",
     "text": [
      "HOG:E0236947\n",
      "ClientException('500 Server Error: Internal Server Error ')\n",
      "HOG:E0236963\n",
      "ClientException('500 Server Error: Internal Server Error ')\n"
     ]
    },
    {
     "name": "stderr",
     "output_type": "stream",
     "text": [
      "  1%|          | 6/524 [00:00<01:13,  7.00it/s]"
     ]
    },
    {
     "name": "stdout",
     "output_type": "stream",
     "text": [
      "HOG:E0237005\n",
      "ClientException('500 Server Error: Internal Server Error ')\n",
      "HOG:E0237023\n",
      "ClientException('500 Server Error: Internal Server Error ')\n"
     ]
    },
    {
     "name": "stderr",
     "output_type": "stream",
     "text": [
      "  2%|▏         | 8/524 [00:01<01:25,  6.04it/s]"
     ]
    },
    {
     "name": "stdout",
     "output_type": "stream",
     "text": [
      "HOG:E0237139\n",
      "ClientException('500 Server Error: Internal Server Error ')\n",
      "HOG:E0237167\n",
      "ClientException('500 Server Error: Internal Server Error ')\n"
     ]
    },
    {
     "name": "stderr",
     "output_type": "stream",
     "text": [
      "  2%|▏         | 10/524 [00:01<01:25,  6.03it/s]"
     ]
    },
    {
     "name": "stdout",
     "output_type": "stream",
     "text": [
      "HOG:E0237170\n",
      "ClientException('500 Server Error: Internal Server Error ')\n",
      "HOG:E0237180\n",
      "ClientException('500 Server Error: Internal Server Error ')\n"
     ]
    },
    {
     "name": "stderr",
     "output_type": "stream",
     "text": [
      "  2%|▏         | 12/524 [00:02<01:29,  5.73it/s]"
     ]
    },
    {
     "name": "stdout",
     "output_type": "stream",
     "text": [
      "HOG:E0237190\n",
      "ClientException('500 Server Error: Internal Server Error ')\n",
      "HOG:E0237204\n",
      "ClientException('500 Server Error: Internal Server Error ')\n"
     ]
    },
    {
     "name": "stderr",
     "output_type": "stream",
     "text": [
      "  3%|▎         | 14/524 [00:02<01:19,  6.45it/s]"
     ]
    },
    {
     "name": "stdout",
     "output_type": "stream",
     "text": [
      "HOG:E0237293\n",
      "ClientException('500 Server Error: Internal Server Error ')\n",
      "HOG:E0237298.1a\n",
      "ClientException('500 Server Error: Internal Server Error ')\n"
     ]
    },
    {
     "name": "stderr",
     "output_type": "stream",
     "text": [
      "  3%|▎         | 16/524 [00:02<01:19,  6.40it/s]"
     ]
    },
    {
     "name": "stdout",
     "output_type": "stream",
     "text": [
      "HOG:E0237298.1b\n",
      "ClientException('500 Server Error: Internal Server Error ')\n",
      "HOG:E0237357\n",
      "ClientException('500 Server Error: Internal Server Error ')\n"
     ]
    },
    {
     "name": "stderr",
     "output_type": "stream",
     "text": [
      "  3%|▎         | 18/524 [00:02<01:25,  5.90it/s]"
     ]
    },
    {
     "name": "stdout",
     "output_type": "stream",
     "text": [
      "HOG:E0237399\n",
      "ClientException('500 Server Error: Internal Server Error ')\n",
      "HOG:E0237420\n",
      "ClientException('500 Server Error: Internal Server Error ')\n"
     ]
    },
    {
     "name": "stderr",
     "output_type": "stream",
     "text": [
      "  4%|▍         | 20/524 [00:03<01:30,  5.59it/s]"
     ]
    },
    {
     "name": "stdout",
     "output_type": "stream",
     "text": [
      "HOG:E0237425\n",
      "ClientException('500 Server Error: Internal Server Error ')\n",
      "HOG:E0237427\n",
      "ClientException('500 Server Error: Internal Server Error ')\n"
     ]
    },
    {
     "name": "stderr",
     "output_type": "stream",
     "text": [
      "  4%|▍         | 22/524 [00:03<01:21,  6.15it/s]"
     ]
    },
    {
     "name": "stdout",
     "output_type": "stream",
     "text": [
      "HOG:E0237468\n",
      "ClientException('500 Server Error: Internal Server Error ')\n",
      "HOG:E0237474\n",
      "ClientException('500 Server Error: Internal Server Error ')\n"
     ]
    },
    {
     "name": "stderr",
     "output_type": "stream",
     "text": [
      "  5%|▍         | 24/524 [00:04<01:28,  5.64it/s]"
     ]
    },
    {
     "name": "stdout",
     "output_type": "stream",
     "text": [
      "HOG:E0237499\n",
      "ClientException('500 Server Error: Internal Server Error ')\n",
      "HOG:E0237502\n",
      "ClientException('500 Server Error: Internal Server Error ')\n"
     ]
    },
    {
     "name": "stderr",
     "output_type": "stream",
     "text": [
      "  5%|▍         | 26/524 [00:04<01:20,  6.16it/s]"
     ]
    },
    {
     "name": "stdout",
     "output_type": "stream",
     "text": [
      "HOG:E0237668\n",
      "ClientException('500 Server Error: Internal Server Error ')\n",
      "HOG:E0239228\n",
      "ClientException('500 Server Error: Internal Server Error ')\n"
     ]
    },
    {
     "name": "stderr",
     "output_type": "stream",
     "text": [
      "  5%|▌         | 28/524 [00:04<01:24,  5.84it/s]"
     ]
    },
    {
     "name": "stdout",
     "output_type": "stream",
     "text": [
      "HOG:E0241244\n",
      "ClientException('500 Server Error: Internal Server Error ')\n",
      "HOG:E0241414\n",
      "ClientException('500 Server Error: Internal Server Error ')\n"
     ]
    },
    {
     "name": "stderr",
     "output_type": "stream",
     "text": [
      "  6%|▌         | 29/524 [00:04<01:26,  5.72it/s]"
     ]
    },
    {
     "name": "stdout",
     "output_type": "stream",
     "text": [
      "HOG:E0241947\n",
      "ClientException('500 Server Error: Internal Server Error ')\n"
     ]
    },
    {
     "name": "stderr",
     "output_type": "stream",
     "text": [
      " 36%|███▋      | 191/524 [01:18<01:38,  3.37it/s]"
     ]
    },
    {
     "name": "stdout",
     "output_type": "stream",
     "text": [
      "HOG:E0277818\n",
      "ClientException('500 Server Error: Internal Server Error ')\n"
     ]
    },
    {
     "name": "stderr",
     "output_type": "stream",
     "text": [
      " 49%|████▊     | 255/524 [01:49<01:40,  2.67it/s]"
     ]
    },
    {
     "name": "stdout",
     "output_type": "stream",
     "text": [
      "HOG:E0296822\n",
      "ClientException('500 Server Error: Internal Server Error ')\n"
     ]
    },
    {
     "name": "stderr",
     "output_type": "stream",
     "text": [
      " 61%|██████    | 318/524 [02:20<01:34,  2.17it/s]"
     ]
    },
    {
     "name": "stdout",
     "output_type": "stream",
     "text": [
      "HOG:E0318183.1b\n",
      "ClientException('500 Server Error: Internal Server Error ')\n"
     ]
    },
    {
     "name": "stderr",
     "output_type": "stream",
     "text": [
      " 62%|██████▏   | 324/524 [02:24<01:27,  2.29it/s]"
     ]
    },
    {
     "name": "stdout",
     "output_type": "stream",
     "text": [
      "HOG:E0319152.1u\n",
      "ClientException('500 Server Error: Internal Server Error ')\n"
     ]
    },
    {
     "name": "stderr",
     "output_type": "stream",
     "text": [
      " 66%|██████▋   | 348/524 [02:38<01:03,  2.79it/s]"
     ]
    },
    {
     "name": "stdout",
     "output_type": "stream",
     "text": [
      "HOG:E0403334\n",
      "ClientException('500 Server Error: Internal Server Error ')\n",
      "HOG:E0614572\n",
      "ClientException('500 Server Error: Internal Server Error ')\n"
     ]
    },
    {
     "name": "stderr",
     "output_type": "stream",
     "text": [
      " 67%|██████▋   | 350/524 [02:38<00:49,  3.51it/s]"
     ]
    },
    {
     "name": "stdout",
     "output_type": "stream",
     "text": [
      "HOG:E0638870\n",
      "ClientException('500 Server Error: Internal Server Error ')\n",
      "HOG:E0680650\n",
      "ClientException('500 Server Error: Internal Server Error ')\n"
     ]
    },
    {
     "name": "stderr",
     "output_type": "stream",
     "text": [
      " 67%|██████▋   | 351/524 [02:38<00:46,  3.75it/s]"
     ]
    },
    {
     "name": "stdout",
     "output_type": "stream",
     "text": [
      "HOG:E0686491.2g\n",
      "ClientException('500 Server Error: Internal Server Error ')\n"
     ]
    },
    {
     "name": "stderr",
     "output_type": "stream",
     "text": [
      " 67%|██████▋   | 352/524 [02:41<02:35,  1.10it/s]"
     ]
    },
    {
     "name": "stdout",
     "output_type": "stream",
     "text": [
      "HOG:E0792940\n",
      "ClientException('500 Server Error: Internal Server Error ')\n"
     ]
    },
    {
     "name": "stderr",
     "output_type": "stream",
     "text": [
      " 67%|██████▋   | 353/524 [02:41<02:09,  1.32it/s]"
     ]
    },
    {
     "name": "stdout",
     "output_type": "stream",
     "text": [
      "HOG:E0793231\n",
      "ClientException('500 Server Error: Internal Server Error ')\n"
     ]
    },
    {
     "name": "stderr",
     "output_type": "stream",
     "text": [
      " 68%|██████▊   | 354/524 [02:42<01:49,  1.56it/s]"
     ]
    },
    {
     "name": "stdout",
     "output_type": "stream",
     "text": [
      "HOG:E0793299\n",
      "ClientException('500 Server Error: Internal Server Error ')\n"
     ]
    },
    {
     "name": "stderr",
     "output_type": "stream",
     "text": [
      " 68%|██████▊   | 356/524 [03:07<16:25,  5.87s/it]"
     ]
    },
    {
     "name": "stdout",
     "output_type": "stream",
     "text": [
      "HOG:E0801468.3anp\n",
      "ClientException('500 Server Error: Internal Server Error ')\n"
     ]
    },
    {
     "name": "stderr",
     "output_type": "stream",
     "text": [
      " 74%|███████▎  | 386/524 [04:09<01:04,  2.14it/s]"
     ]
    },
    {
     "name": "stdout",
     "output_type": "stream",
     "text": [
      "HOG:E0801852\n",
      "ClientException('500 Server Error: Internal Server Error ')\n"
     ]
    },
    {
     "name": "stderr",
     "output_type": "stream",
     "text": [
      " 79%|███████▉  | 414/524 [04:30<00:54,  2.01it/s]"
     ]
    },
    {
     "name": "stdout",
     "output_type": "stream",
     "text": [
      "HOG:E0802143.10a\n",
      "ClientException('500 Server Error: Internal Server Error ')\n"
     ]
    },
    {
     "name": "stderr",
     "output_type": "stream",
     "text": [
      " 84%|████████▍ | 439/524 [04:41<00:31,  2.66it/s]"
     ]
    },
    {
     "name": "stdout",
     "output_type": "stream",
     "text": [
      "HOG:E0802652\n",
      "ClientException('500 Server Error: Internal Server Error ')\n"
     ]
    },
    {
     "name": "stderr",
     "output_type": "stream",
     "text": [
      " 86%|████████▌ | 449/524 [04:46<00:29,  2.56it/s]"
     ]
    },
    {
     "name": "stdout",
     "output_type": "stream",
     "text": [
      "HOG:E0803384.5i.12a.22e.23a.20a.13a.14a.10a\n",
      "ClientException('500 Server Error: Internal Server Error ')\n"
     ]
    },
    {
     "name": "stderr",
     "output_type": "stream",
     "text": [
      " 89%|████████▉ | 466/524 [04:55<00:20,  2.82it/s]"
     ]
    },
    {
     "name": "stdout",
     "output_type": "stream",
     "text": [
      "HOG:E0805706.1b.1b.1a.2b.3b.1b\n",
      "ClientException('500 Server Error: Internal Server Error ')\n"
     ]
    },
    {
     "name": "stderr",
     "output_type": "stream",
     "text": [
      " 95%|█████████▌| 498/524 [05:11<00:10,  2.53it/s]"
     ]
    },
    {
     "name": "stdout",
     "output_type": "stream",
     "text": [
      "HOG:E0936655\n",
      "ClientException('500 Server Error: Internal Server Error ')\n"
     ]
    },
    {
     "name": "stderr",
     "output_type": "stream",
     "text": [
      " 95%|█████████▌| 499/524 [05:12<00:14,  1.77it/s]"
     ]
    },
    {
     "name": "stdout",
     "output_type": "stream",
     "text": [
      "HOG:E0990687\n",
      "ClientException('500 Server Error: Internal Server Error ')\n"
     ]
    },
    {
     "name": "stderr",
     "output_type": "stream",
     "text": [
      " 95%|█████████▌| 500/524 [05:13<00:11,  2.09it/s]"
     ]
    },
    {
     "name": "stdout",
     "output_type": "stream",
     "text": [
      "HOG:E1000640\n",
      "ClientException('500 Server Error: Internal Server Error ')\n"
     ]
    },
    {
     "name": "stderr",
     "output_type": "stream",
     "text": [
      "100%|██████████| 524/524 [05:23<00:00,  1.62it/s]\n"
     ]
    }
   ],
   "source": [
    "sequence_of_hog = oc.get_sequences_hog(uniq_HOGs, level=level)"
   ]
  },
  {
   "cell_type": "code",
   "execution_count": null,
   "id": "79efdfb8",
   "metadata": {},
   "outputs": [],
   "source": [
    "#Path to the output FASTA file\n",
    "SEQ_FASTA=  '/Users/jazminvaleriano/Desktop/OMArk_contextualize/OMArk_output'"
   ]
  },
  {
   "cell_type": "code",
   "execution_count": null,
   "id": "7adfd815",
   "metadata": {},
   "outputs": [],
   "source": [
    "oc.write_FASTA_missing_HOGs(sequence_of_hog, SEQ_FASTA)"
   ]
  },
  {
   "cell_type": "markdown",
   "id": "e5202568",
   "metadata": {},
   "source": [
    "The FASTA file provided by the above code contains Hierarchical Orthologous Groups for which we can't find a correspoding proteins in the protromr. The identifier of each sequence is the HOG ID with an added number (In case there are many sequences)\n",
    "\n",
    "You can use it as an input of MiniProt (https://github.com/lh3/miniprot) to get a mapping of those HOGs to the genomic sequence. We recommend using the ```--gff``` option of MiniProt to obtain the results as the GFF file.  \n",
    "If MiniProt is installed in yout environment, you can use the below command line to run it, after setting the appropriate pathes."
   ]
  },
  {
   "cell_type": "code",
   "execution_count": null,
   "id": "a12cda4c",
   "metadata": {},
   "outputs": [],
   "source": [
    "#Path for MiniProt\n",
    "GENOMIC_FASTA  = ''\n",
    "MINIPROT_OUTPUT = ''"
   ]
  },
  {
   "cell_type": "code",
   "execution_count": null,
   "id": "0503fda3",
   "metadata": {},
   "outputs": [],
   "source": [
    "!miniprot -I --gff --outs=0.95 {GENOMIC_FASTA} {SEQ_FASTA} > {MINIPROT_OUTPUT}"
   ]
  },
  {
   "cell_type": "markdown",
   "id": "73103701",
   "metadata": {},
   "source": [
    "You can then check whether you have gene models predicted at these location, or if the mapping could improve your gene models.  \n",
    "This method can also be combined with the synteny strategy below"
   ]
  },
  {
   "cell_type": "markdown",
   "id": "9cb0685f",
   "metadata": {},
   "source": [
    "## Synteny analysis"
   ]
  },
  {
   "cell_type": "markdown",
   "id": "d0c2b102",
   "metadata": {},
   "source": [
    "This subsection extract ancestral synteny for the missing HOGs from this annotation, find the corresponding genes in the genome using OMAmer and export this context.\n",
    "This file can the be used to know if known genes from the same context are present in the genome or also missing, and to help you find these genes if genes from the same context are indeed presents.\n",
    "The next cells obtain context for the missing HOGs from the OMA API (should take a few minutes), then use the OMAmer mapping to convert it to genes identifier from the same genome and export all as a tsv files.\n",
    "\n",
    "**Warning** This subsection will only work with OMABrowser version from June 2023 onward."
   ]
  },
  {
   "cell_type": "code",
   "execution_count": null,
   "id": "072351e8",
   "metadata": {
    "scrolled": true
   },
   "outputs": [],
   "source": [
    "#Extract synteny data\n",
    "synteny_groups = oc.get_synteny_hog(uniq_HOGs, level)"
   ]
  },
  {
   "cell_type": "code",
   "execution_count": null,
   "id": "e3d0a84e",
   "metadata": {},
   "outputs": [],
   "source": [
    "#Get OMAmer mapping\n",
    "omamer_map  = {x : y for x,y in zip(list(omamer_df['HOG']),list(omamer_df['gene']) )}"
   ]
  },
  {
   "cell_type": "code",
   "execution_count": null,
   "id": "32c70354",
   "metadata": {},
   "outputs": [],
   "source": [
    "#Convert context to the target genome context (Gene identifier)\n",
    "expected_neighbourhood = oc.translate_to_genomic_context(synteny_groups, omamer_map)"
   ]
  },
  {
   "cell_type": "code",
   "execution_count": null,
   "id": "daa27721",
   "metadata": {
    "scrolled": false
   },
   "outputs": [],
   "source": [
    "expected_neighbourhood"
   ]
  },
  {
   "cell_type": "code",
   "execution_count": null,
   "id": "d4b01c6f",
   "metadata": {},
   "outputs": [],
   "source": [
    "#Path to the synteny TSV file\n",
    "SYNTENY_OUTFILE = ''"
   ]
  },
  {
   "cell_type": "code",
   "execution_count": null,
   "id": "8a4431bf",
   "metadata": {},
   "outputs": [],
   "source": [
    "#Write the results to a TSV file\n",
    "oc.write_synteny_file(expected_neighbourhood, SYNTENY_OUTFILE)"
   ]
  },
  {
   "cell_type": "markdown",
   "id": "f83d850f",
   "metadata": {},
   "source": [
    "You can use the above generated file to look for the gene close to the \"Target\" genes (the missing HOG) - represented by their ID in the OMAmer file. YOu can use a genome browser to find this context and identify if the genes may be present, by combining it with the above sequence subsection."
   ]
  },
  {
   "cell_type": "markdown",
   "id": "2c3a3960",
   "metadata": {},
   "source": [
    "The next cell is histogram of number of genes found in the context for each HOG.  \n",
    "A high number of gene with 4 genes in the context may mean that these missing genes may still be present in the genome, while a lot of 0 genes in the context likely confirm that entire contigs are missing from the assembly."
   ]
  },
  {
   "cell_type": "code",
   "execution_count": null,
   "id": "3d15fb04",
   "metadata": {},
   "outputs": [],
   "source": [
    "import matplotlib.pyplot as plt\n",
    "import numpy as np\n",
    "plt.bar(*np.unique([x[1][0] for x in expected_neighbourhood], return_counts=True))\n"
   ]
  },
  {
   "cell_type": "markdown",
   "id": "fe0d8487",
   "metadata": {},
   "source": [
    "# Assembly completeness assesment"
   ]
  },
  {
   "cell_type": "markdown",
   "id": "749b8e48",
   "metadata": {},
   "source": [
    "OMARk is designed to assess the quality of annotation, using multiple independant metrics.\n",
    "However, users may be interested to assess the completeness of an assembly before going through a lengthy annotation process. Here is a tutorial on how to do this.   \n",
    "This tutorial is divied into three subsection. While the first section is mandatory, the two others are mutually exclusive and are to be done under different conditions:\n",
    "* Conserved genes extraction with OMArk. **Mandatory**\n",
    "* Assembly completenes with Miniprot. **Only if the gene set is close enough to the target species (Family level or below**\n",
    "* Assembly completeness with a genefinder **If the conserved gene set is not close to the target species**\n"
   ]
  },
  {
   "cell_type": "markdown",
   "id": "3c54e49e",
   "metadata": {},
   "source": [
    "First, you need to extract the reference lineage's HOGs from OMArk. You can do this using the ```-c``` option. Below is the cell that can help you run this command if OMArk is installed in your environment."
   ]
  },
  {
   "cell_type": "code",
   "execution_count": null,
   "id": "e5738da6",
   "metadata": {},
   "outputs": [],
   "source": [
    "#Path to the OMAmer DB\n",
    "OMAMER_DB = ''\n",
    "#Target species's taxid\n",
    "SPECIES_TAXID = ''\n",
    "#OMArk folder\n",
    "OMARK_OUTPUT_FOLDER=  ''"
   ]
  },
  {
   "cell_type": "code",
   "execution_count": null,
   "id": "56e8bc3f",
   "metadata": {},
   "outputs": [],
   "source": [
    "!omark -c -d {OMAMER_DB} -t {SPECIES_TAXID} -o {OMARK_OUTPUT_FOLDER}"
   ]
  },
  {
   "cell_type": "markdown",
   "id": "b2c54d17",
   "metadata": {},
   "source": [
    "This cell extract the results from the ```omark -c``` call."
   ]
  },
  {
   "cell_type": "code",
   "execution_count": null,
   "id": "c3dc4ec0",
   "metadata": {},
   "outputs": [],
   "source": [
    "HOG_LIST_FILE = OMARK_OUTPUT_FOLDER + '/conserved_HOGs.txt'\n",
    "\n",
    "hog_list, LEVEL = oc.read_conserved_hogs(HOG_LIST_FILE)\n",
    "\n",
    "print(f'Ancestral lineage: {LEVEL}')\n",
    "print(f'{len(hog_list)} HOGs')"
   ]
  },
  {
   "cell_type": "markdown",
   "id": "3040d3eb",
   "metadata": {},
   "source": [
    "## Assembly completeness with Miniprot"
   ]
  },
  {
   "cell_type": "markdown",
   "id": "ab9c0430",
   "metadata": {},
   "source": [
    "This subsection is to help you assessing the completeness of your assembly rather than an annotation. To do this, we suggest using Miniprot (https://github.com/lh3/miniprot) from [H. Li, *Bioinformatics*, 2023](https://academic.oup.com/bioinformatics/article/39/1/btad014/6989621). \n",
    "\n",
    "The cell below download sequences from OMArk's conserved HOGs, at the level of interest. We expect this method to work well when the chosen ancestral lineage is not too far from the species of interest (Order, or family level) since Miniprot works well with close sequences. If it is not the case, we suggest using the Gene Finder subsection below.\n",
    "\n",
    "**Warning**: downloading selected sequences from OMA require many API calls and can take time. Expect this part to take between 15 min to 4 hours."
   ]
  },
  {
   "cell_type": "code",
   "execution_count": null,
   "id": "c7fb450e",
   "metadata": {},
   "outputs": [],
   "source": [
    "#Input for MiniProt\n",
    "SEQ_FASTA=  ''\n",
    "sequence_of_hog = oc.get_sequences_hog(hog_list, nseq=1, level=LEVEL)\n",
    "oc.write_FASTA_missing_HOGs(sequence_of_hog, SEQ_FASTA)"
   ]
  },
  {
   "cell_type": "markdown",
   "id": "9bcb406c",
   "metadata": {},
   "source": [
    "With this FASTA file, run miniprot with the following command: ```miniprot  --trans -I --gff --outs=0.95 [GENOMIC_FASTA] [SEQ_FASTA] > MINIPROT_OUTPUT```. If miniprot is installed in your environment use the cell below, by replacing values for the empty variables."
   ]
  },
  {
   "cell_type": "code",
   "execution_count": null,
   "id": "e2401c2e",
   "metadata": {},
   "outputs": [],
   "source": [
    "#Path to the genomic FASTA file\n",
    "GENOMIC_FASTA = ''\n",
    "#Path to the MiniProt output file\n",
    "MINIPROT_OUTPUT = ''"
   ]
  },
  {
   "cell_type": "code",
   "execution_count": null,
   "id": "8384ace9",
   "metadata": {},
   "outputs": [],
   "source": [
    "!miniprot  --trans -I --gff --outs=0.95 {GENOMIC_FASTA} {SEQ_FASTA} > {MINIPROT_OUTPUT}"
   ]
  },
  {
   "cell_type": "markdown",
   "id": "0e09f7bd",
   "metadata": {},
   "source": [
    "The next cell takes as input the GFF output from Miniprot and output a FASTA file to be used as input for omamer and a splice file to be used as input for OMArk.   \n",
    "The cell after this gives example command to run OMArk. You may run it through the Notebook if you have it installed in the same environment and have enough ressources for it. Otherwise, you can use it as a command line."
   ]
  },
  {
   "cell_type": "code",
   "execution_count": null,
   "id": "a737e4af",
   "metadata": {},
   "outputs": [],
   "source": [
    "#FASTA file to be created from MiniProt results\n",
    "PROT_FASTA = ''\n",
    "#Splice file to be created from MiniProt Results\n",
    "SPLICE_FILE = ''\n",
    "oc.omark_input_from_gff(MINIPROT_OUTPUT, GENOMIC_FASTA, PROT_FASTA, SPLICE_FILE)"
   ]
  },
  {
   "cell_type": "code",
   "execution_count": null,
   "id": "a43a50b7",
   "metadata": {},
   "outputs": [],
   "source": [
    "#Path to the OMAmer file\n",
    "OMAMER_FILE = ''\n",
    "#Path to OMArk output\n",
    "OMARK_OUTPUT  = ''"
   ]
  },
  {
   "cell_type": "code",
   "execution_count": null,
   "id": "66185c60",
   "metadata": {},
   "outputs": [],
   "source": [
    "!omamer search --db {OMAMER_DB} --query {PROT_FASTA} --out {OMAMER_FILE} \n",
    "!omark -d {OMAMER_DB} -f {OMAMER_FILE} -i {SPLICE_FILE} -o {OMARK_OUTPUT}"
   ]
  },
  {
   "cell_type": "markdown",
   "id": "7da3a47b",
   "metadata": {},
   "source": [
    "OMArk results give an estimate for the completess of the assembly. Only the completeness part of OMArk is relevant here, since the annotation done this way only consider genes annotated from mapping conserved genes.   \n",
    "**Warning**: the consistency part of OMArk should not be used to evaluate proteomes directly annotated from OMArk output since it would be circular logic. Instead, consistency evaluation should only be used on annotation created from methods independant from OMArk."
   ]
  },
  {
   "cell_type": "markdown",
   "id": "c57d0d42",
   "metadata": {},
   "source": [
    "## Assembly completeness with a genefinder"
   ]
  },
  {
   "cell_type": "markdown",
   "id": "abac8bed",
   "metadata": {},
   "source": [
    "In case the ancestral lineage chosen by OMArk for your proteome is quite distant from your species of interest, it is best to use an *ab initio* predicttion method to first estimate the completeness of the assembly.\n",
    "\n",
    "The cell below can help you by downloading sequences from the selected lineage to use as a training set for methods such as [Augustus](https://github.com/Gaius-Augustus/Augustus). "
   ]
  },
  {
   "cell_type": "code",
   "execution_count": null,
   "id": "ca4ba628",
   "metadata": {},
   "outputs": [],
   "source": [
    "#input for Genefinder\n",
    "PATH_OUTPUT=  ''\n",
    "sequence_of_hog = oc.get_sequences_hog(hog_list, nseq=20, level=LEVEL)\n",
    "oc.write_FASTA_missing_HOGs(sequence_of_hog, PATH_OUTPUT)"
   ]
  },
  {
   "cell_type": "markdown",
   "id": "5bea38b2",
   "metadata": {},
   "source": [
    "Using *ab initio* annotation method can require parallelizing, or parameter tuning, that is best made following instructions from the authors of a method. Once predictions are made, you can use OMAmer and OMArk in their normal on the output protein FASTA file."
   ]
  }
 ],
 "metadata": {
  "kernelspec": {
   "display_name": "omark_env",
   "language": "python",
   "name": "python3"
  },
  "language_info": {
   "codemirror_mode": {
    "name": "ipython",
    "version": 3
   },
   "file_extension": ".py",
   "mimetype": "text/x-python",
   "name": "python",
   "nbconvert_exporter": "python",
   "pygments_lexer": "ipython3",
   "version": "3.10.15"
  }
 },
 "nbformat": 4,
 "nbformat_minor": 5
}
